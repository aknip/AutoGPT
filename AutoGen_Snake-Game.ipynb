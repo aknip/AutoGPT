{
  "cells": [
    {
      "cell_type": "markdown",
      "metadata": {
        "id": "view-in-github",
        "colab_type": "text"
      },
      "source": [
        "<a href=\"https://colab.research.google.com/github/aknip/Autogen-AutoGPT/blob/main/AutoGen_Snake-Game.ipynb\" target=\"_parent\"><img src=\"https://colab.research.google.com/assets/colab-badge.svg\" alt=\"Open In Colab\"/></a>"
      ]
    },
    {
      "cell_type": "markdown",
      "metadata": {
        "id": "7ttNKkwQf_77"
      },
      "source": [
        "# Autogen Snake-Game\n",
        "How to:\n",
        "\n",
        "- lorem\n",
        "- ipsum\n",
        "\n",
        "Source: https://github.com/abhilashi/ai-explorations/blob/main/ai_scene_writer.py"
      ]
    },
    {
      "cell_type": "code",
      "source": [
        "import json\n",
        "import os\n",
        "from getpass import getpass\n",
        "import psutil\n",
        "IN_NOTEBOOK = any([\"jupyter-notebook\" in i for i in psutil.Process().parent().cmdline()])\n",
        "if IN_NOTEBOOK:\n",
        "  CREDS = json.loads(getpass(\"Secrets (JSON string): \"))\n",
        "  os.environ['CREDS'] = json.dumps(CREDS)\n",
        "  CREDS = json.loads(os.getenv('CREDS'))"
      ],
      "metadata": {
        "id": "7B9wgWQFgeEq",
        "outputId": "81f91ae4-9691-483a-aa07-d029e53d529f",
        "colab": {
          "base_uri": "https://localhost:8080/"
        }
      },
      "execution_count": 20,
      "outputs": [
        {
          "name": "stdout",
          "output_type": "stream",
          "text": [
            "Secrets (JSON string): ··········\n"
          ]
        }
      ]
    },
    {
      "cell_type": "code",
      "execution_count": null,
      "metadata": {
        "execution": {
          "iopub.execute_input": "2023-02-13T23:40:52.317406Z",
          "iopub.status.busy": "2023-02-13T23:40:52.316561Z",
          "iopub.status.idle": "2023-02-13T23:40:52.321193Z",
          "shell.execute_reply": "2023-02-13T23:40:52.320628Z"
        },
        "id": "PCvcPcqXf_77"
      },
      "outputs": [],
      "source": [
        "!pip install pyautogen==0.1.3 docker -q"
      ]
    },
    {
      "cell_type": "markdown",
      "metadata": {
        "id": "NUUD8R5Bf_78"
      },
      "source": [
        "## Setup\n",
        "\n",
        "\n"
      ]
    },
    {
      "cell_type": "code",
      "source": [
        "from autogen import AssistantAgent, UserProxyAgent, config_list_from_json, GroupChat, GroupChatManager\n",
        "\n",
        "\n",
        "config_list = [{'model': 'gpt-4', 'api_key': CREDS['OpenAI']['v1']['credential']}]\n",
        "\n",
        "llm_config = {\n",
        "    \"seed\": 42,  # change the seed for different trials\n",
        "    \"temperature\": 0,\n",
        "    \"config_list\": config_list,\n",
        "    \"request_timeout\": 1200,\n",
        "}\n",
        "\n",
        "\n",
        "# Define the common working directory for all agents\n",
        "working_directory = \"game_files\"\n",
        "\n",
        "# Initialize the Player agent, responsible for providing gameplay feedback\n",
        "player = UserProxyAgent(\n",
        "    name=\"Player\",\n",
        "    system_message=\"Player: Your role is to provide feedback on the gameplay. Collaborate with the Game Designer to ensure the game meets desired expectations.\",\n",
        "    code_execution_config={\n",
        "        \"work_dir\": working_directory,\n",
        "        \"use_docker\": False,\n",
        "        \"timeout\": 120,\n",
        "        \"last_n_messages\": 1,\n",
        "    },\n",
        ")\n",
        "\n",
        "# Initialize the Game Designer agent, responsible for designing the game\n",
        "game_designer = AssistantAgent(\n",
        "    name=\"Game_Designer\",\n",
        "    llm_config=llm_config,\n",
        "    system_message=\"Game Designer: Design the snake game, ensuring all details are documented in 'game_design.txt'. Collaborate with the Player to align the design with feedback and expectations.\"\n",
        ")\n",
        "\n",
        "# Initialize the Programmer agent, responsible for coding the game\n",
        "programmer = AssistantAgent(\n",
        "    name=\"Programmer\",\n",
        "    llm_config=llm_config,\n",
        "    system_message=\"Programmer: Code the snake game and save it in the working directory. For code execution, collaborate with the Code Executor. If feedback is needed, consult the Game Tester.\"\n",
        ")\n",
        "\n",
        "# Initialize the Game Tester agent, responsible for playtesting the game\n",
        "game_tester = UserProxyAgent(\n",
        "    name=\"Game_Tester\",\n",
        "    system_message=\"Game Tester: Playtest the game and provide feedback on gameplay mechanics and user experience. Report any bugs or glitches. Collaborate with the Programmer for any necessary adjustments.\",\n",
        "    code_execution_config={\n",
        "        \"work_dir\": working_directory,\n",
        "        \"use_docker\": False,\n",
        "        \"timeout\": 120,\n",
        "        \"last_n_messages\": 3,\n",
        "    },\n",
        "    human_input_mode=\"ALWAYS\",\n",
        ")\n",
        "\n",
        "# Initialize the Code Executor agent, responsible for executing the game code\n",
        "code_executor = UserProxyAgent(\n",
        "    name=\"Code_Executor\",\n",
        "    system_message=\"Code Executor: Execute the provided code from the Programmer in the designated environment. Report outcomes and potential issues. Ensure the code follows best practices and recommend enhancements to the Programmer.\",\n",
        "    code_execution_config={\n",
        "        \"work_dir\": working_directory,\n",
        "        \"use_docker\": False,\n",
        "        \"timeout\": 120,\n",
        "        \"last_n_messages\": 3,\n",
        "    },\n",
        "    human_input_mode=\"NEVER\",\n",
        ")\n",
        "\n",
        "# Set up the group chat with all the agents\n",
        "groupchat = GroupChat(\n",
        "    agents=[player, game_tester, game_designer, programmer, code_executor],\n",
        "    messages=[],\n",
        "    max_round=150\n",
        ")\n",
        "\n",
        "# Create a manager for the group chat using the GPT-4 configuration\n",
        "manager = GroupChatManager(groupchat=groupchat, llm_config=llm_config)\n",
        "\n",
        "\n"
      ],
      "metadata": {
        "id": "8CB7G2e4KQ1U"
      },
      "execution_count": 24,
      "outputs": []
    },
    {
      "cell_type": "markdown",
      "source": [
        "# Start Chat"
      ],
      "metadata": {
        "id": "io4DiKC-Qoag"
      }
    },
    {
      "cell_type": "code",
      "source": [
        "# Start the conversation with the Player's message\n",
        "player.initiate_chat(\n",
        "    manager,\n",
        "    message=\"Let's design and implement a snake game. I aim for it to be entertaining and challenging.\"\n",
        ")"
      ],
      "metadata": {
        "id": "0D9RKeMLKyW6",
        "outputId": "8ba173c4-1c4b-47e1-d5e4-5d57c85d3792",
        "colab": {
          "base_uri": "https://localhost:8080/"
        }
      },
      "execution_count": 25,
      "outputs": [
        {
          "name": "stdout",
          "output_type": "stream",
          "text": [
            "Player (to chat_manager):\n",
            "\n",
            "Let's design and implement a snake game. I aim for it to be entertaining and challenging.\n",
            "\n",
            "--------------------------------------------------------------------------------\n",
            "Game_Designer (to chat_manager):\n",
            "\n",
            "Great! Let's start by defining the basic features of the game. Here's a rough outline:\n",
            "\n",
            "1. **Gameplay**: The player controls a snake that grows in length as it consumes food. The game ends when the snake collides with itself or the game area boundaries.\n",
            "\n",
            "2. **Controls**: The player can control the direction of the snake using the arrow keys.\n",
            "\n",
            "3. **Scoring**: The player earns points for each piece of food consumed. The score increases as the snake grows in length.\n",
            "\n",
            "4. **Difficulty Levels**: The game speed increases as the snake grows longer, making the game progressively more difficult.\n",
            "\n",
            "5. **Visuals**: The game will have a simple and clean design, with the snake, food, and boundaries clearly distinguishable.\n",
            "\n",
            "6. **Sound Effects**: There will be sound effects for eating food and for game over.\n",
            "\n",
            "7. **High Scores**: The game will keep track of the player's high score across sessions.\n",
            "\n",
            "Does this align with your expectations? Do you have any specific features in mind that you'd like to add?\n",
            "\n",
            "--------------------------------------------------------------------------------\n",
            "Provide feedback to chat_manager. Press enter to skip and use auto-reply, or type 'exit' to end the conversation: \n",
            "\n",
            ">>>>>>>> NO HUMAN INPUT RECEIVED.\n",
            "\n",
            ">>>>>>>> USING AUTO REPLY...\n",
            "Player (to chat_manager):\n",
            "\n",
            "\n",
            "\n",
            "--------------------------------------------------------------------------------\n",
            "Provide feedback to chat_manager. Press enter to skip and use auto-reply, or type 'exit' to end the conversation: \n",
            "\n",
            ">>>>>>>> NO HUMAN INPUT RECEIVED.\n",
            "\n",
            ">>>>>>>> USING AUTO REPLY...\n",
            "Player (to chat_manager):\n",
            "\n",
            "\n",
            "\n",
            "--------------------------------------------------------------------------------\n",
            "Provide feedback to chat_manager. Press enter to skip and use auto-reply, or type 'exit' to end the conversation: ok!\n",
            "Player (to chat_manager):\n",
            "\n",
            "ok!\n",
            "\n",
            "--------------------------------------------------------------------------------\n",
            "Programmer (to chat_manager):\n",
            "\n",
            "Great! Let's start coding the game. We'll use Python's `curses` library to handle the screen display and user input. We'll also use the `random` library to randomly place the food on the screen. Here's a basic structure of the game:\n",
            "\n",
            "```python\n",
            "import random\n",
            "import curses\n",
            "\n",
            "# Initialize the screen\n",
            "s = curses.initscr()\n",
            "curses.curs_set(0)\n",
            "sh, sw = s.getmaxyx()\n",
            "w = curses.newwin(sh, sw, 0, 0)\n",
            "w.keypad(1)\n",
            "w.timeout(100)\n",
            "\n",
            "# Create the snake\n",
            "snake_x = sw//4\n",
            "snake_y = sh//2\n",
            "snake = [\n",
            "    [snake_y, snake_x],\n",
            "    [snake_y, snake_x-1],\n",
            "    [snake_y, snake_x-2]\n",
            "]\n",
            "\n",
            "# Create the food\n",
            "food = [sh//2, sw//2]\n",
            "w.addch(int(food[0]), int(food[1]), curses.ACS_PI)\n",
            "\n",
            "# Initialize game state variables\n",
            "score = 0\n",
            "snake_direction = curses.KEY_RIGHT\n",
            "\n",
            "# Game loop\n",
            "while True:\n",
            "    next_key = w.getch()\n",
            "    snake_direction = snake_direction if next_key == -1 else next_key\n",
            "\n",
            "    # Check if game over\n",
            "    if snake[0] in snake[1:] or snake[0][0] in [0, sh] or \\\n",
            "        snake[0][1]  in [0, sw]:\n",
            "        curses.endwin()\n",
            "        quit()\n",
            "\n",
            "    # Check if snake got the food\n",
            "    new_head = [snake[0][0], snake[0][1]]\n",
            "\n",
            "    if snake_direction == curses.KEY_DOWN:\n",
            "        new_head[0] += 1\n",
            "    if snake_direction == curses.KEY_UP:\n",
            "        new_head[0] -= 1\n",
            "    if snake_direction == curses.KEY_LEFT:\n",
            "        new_head[1] -= 1\n",
            "    if snake_direction == curses.KEY_RIGHT:\n",
            "        new_head[1] += 1\n",
            "\n",
            "    snake.insert(0, new_head)\n",
            "\n",
            "    if snake[0] == food:\n",
            "        score += 1\n",
            "        food = None\n",
            "        while food is None:\n",
            "            nf = [\n",
            "                random.randint(1, sh-1),\n",
            "                random.randint(1, sw-1)\n",
            "            ]\n",
            "            food = nf if nf not in snake else None\n",
            "        w.addch(food[0], food[1], curses.ACS_PI)\n",
            "    else:\n",
            "        tail = snake.pop()\n",
            "        w.addch(int(tail[0]), int(tail[1]), ' ')\n",
            "\n",
            "    w.addch(int(snake[0][0]), int(snake[0][1]), curses.ACS_CKBOARD)\n",
            "```\n",
            "\n",
            "This is a basic version of the game. We can add more features like difficulty levels, sound effects, and high scores later.\n",
            "\n",
            "--------------------------------------------------------------------------------\n",
            "\n",
            ">>>>>>>> EXECUTING CODE BLOCK 0 (inferred language is python)...\n",
            "Code_Executor (to chat_manager):\n",
            "\n",
            "exitcode: 1 (execution failed)\n",
            "Code output: \n",
            "Traceback (most recent call last):\n",
            "  File \"\", line 6, in <module>\n",
            "    curses.curs_set(0)\n",
            "_curses.error: curs_set() returned ERR\n",
            "\n",
            "\n",
            "--------------------------------------------------------------------------------\n",
            "Programmer (to chat_manager):\n",
            "\n",
            "It seems like the code execution environment doesn't support the `curses` library. This library is used for creating text-based user interfaces and games in the terminal, and it might not be supported in all environments, especially web-based ones.\n",
            "\n",
            "However, you can try running the code on your local machine. Make sure you have Python and the `curses` library installed. If you're on Windows, the `curses` library is not available by default, but you can install the `windows-curses` package to add support for it.\n",
            "\n",
            "To run the code, save it to a file, say `snake.py`, and then run `python snake.py` in the terminal.\n",
            "\n",
            "--------------------------------------------------------------------------------\n",
            "Provide feedback to chat_manager. Press enter to skip and use auto-reply, or type 'exit' to end the conversation: ok\n",
            "Game_Tester (to chat_manager):\n",
            "\n",
            "ok\n",
            "\n",
            "--------------------------------------------------------------------------------\n",
            "Provide feedback to chat_manager. Press enter to skip and use auto-reply, or type 'exit' to end the conversation: ok\n",
            "Player (to chat_manager):\n",
            "\n",
            "ok\n",
            "\n",
            "--------------------------------------------------------------------------------\n",
            "Provide feedback to chat_manager. Press enter to skip and use auto-reply, or type 'exit' to end the conversation: \n",
            "\n",
            ">>>>>>>> NO HUMAN INPUT RECEIVED.\n",
            "\n",
            ">>>>>>>> USING AUTO REPLY...\n",
            "Game_Tester (to chat_manager):\n",
            "\n",
            "\n",
            "\n",
            "--------------------------------------------------------------------------------\n",
            "Provide feedback to chat_manager. Press enter to skip and use auto-reply, or type 'exit' to end the conversation: exit\n"
          ]
        }
      ]
    }
  ],
  "metadata": {
    "kernelspec": {
      "display_name": "Python 3",
      "language": "python",
      "name": "python3"
    },
    "language_info": {
      "codemirror_mode": {
        "name": "ipython",
        "version": 3
      },
      "file_extension": ".py",
      "mimetype": "text/x-python",
      "name": "python",
      "nbconvert_exporter": "python",
      "pygments_lexer": "ipython3",
      "version": "3.9.17"
    },
    "vscode": {
      "interpreter": {
        "hash": "949777d72b0d2535278d3dc13498b2535136f6dfe0678499012e853ee9abcab1"
      }
    },
    "colab": {
      "provenance": [],
      "include_colab_link": true
    }
  },
  "nbformat": 4,
  "nbformat_minor": 0
}