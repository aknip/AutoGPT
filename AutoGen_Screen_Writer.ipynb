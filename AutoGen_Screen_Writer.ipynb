{
  "cells": [
    {
      "cell_type": "markdown",
      "metadata": {
        "id": "view-in-github",
        "colab_type": "text"
      },
      "source": [
        "<a href=\"https://colab.research.google.com/github/aknip/Autogen-AutoGPT/blob/main/AutoGen_Screen_Writer.ipynb\" target=\"_parent\"><img src=\"https://colab.research.google.com/assets/colab-badge.svg\" alt=\"Open In Colab\"/></a>"
      ]
    },
    {
      "cell_type": "markdown",
      "metadata": {
        "id": "7ttNKkwQf_77"
      },
      "source": [
        "# Autogen Scene Writer\n",
        "How to:\n",
        "\n",
        "- lorem\n",
        "- ipsum\n",
        "\n",
        "Source: https://github.com/abhilashi/ai-explorations/blob/main/ai_scene_writer.py"
      ]
    },
    {
      "cell_type": "code",
      "source": [
        "import json\n",
        "import os\n",
        "from getpass import getpass\n",
        "import psutil\n",
        "IN_NOTEBOOK = any([\"jupyter-notebook\" in i for i in psutil.Process().parent().cmdline()])\n",
        "if IN_NOTEBOOK:\n",
        "  CREDS = json.loads(getpass(\"Secrets (JSON string): \"))\n",
        "  os.environ['CREDS'] = json.dumps(CREDS)\n",
        "  CREDS = json.loads(os.getenv('CREDS'))"
      ],
      "metadata": {
        "id": "7B9wgWQFgeEq",
        "outputId": "c03ef84f-f5cf-4318-ad05-0d526f297abc",
        "colab": {
          "base_uri": "https://localhost:8080/"
        }
      },
      "execution_count": 1,
      "outputs": [
        {
          "name": "stdout",
          "output_type": "stream",
          "text": [
            "Secrets (JSON string): ··········\n"
          ]
        }
      ]
    },
    {
      "cell_type": "code",
      "execution_count": null,
      "metadata": {
        "execution": {
          "iopub.execute_input": "2023-02-13T23:40:52.317406Z",
          "iopub.status.busy": "2023-02-13T23:40:52.316561Z",
          "iopub.status.idle": "2023-02-13T23:40:52.321193Z",
          "shell.execute_reply": "2023-02-13T23:40:52.320628Z"
        },
        "id": "PCvcPcqXf_77"
      },
      "outputs": [],
      "source": [
        "!pip install pyautogen~=0.1.0 docker"
      ]
    },
    {
      "cell_type": "markdown",
      "metadata": {
        "id": "NUUD8R5Bf_78"
      },
      "source": [
        "## Setup\n",
        "\n",
        "\n"
      ]
    },
    {
      "cell_type": "code",
      "source": [
        "from autogen import AssistantAgent, UserProxyAgent\n",
        "import autogen\n",
        "\n",
        "config_list = [{'model': 'gpt-4', 'api_key': CREDS['OpenAI']['v1']['credential']}]\n",
        "\n",
        "llm_config = {\n",
        "    \"seed\": 43,  # change the seed for different trials\n",
        "    \"temperature\": 0,\n",
        "    \"config_list\": config_list,\n",
        "    \"request_timeout\": 120,\n",
        "}\n",
        "\n",
        "#print(config_list)\n",
        "\n",
        "screen_writer = autogen.UserProxyAgent(\n",
        "    name=\"screen_writer\",\n",
        "    system_message=\"A human screen writer. Dialoge needs to be approved by this screen writer.\",\n",
        "    code_execution_config={\"work_dir\": \"work\"},\n",
        "    #code_execution_config=False,\n",
        ")\n",
        "\n",
        "# Alternative to save result to file - not working...!\n",
        "#screen_writer = autogen.UserProxyAgent(\n",
        "#    name=\"screen_writer\",\n",
        "#    human_input_mode=\"TERMINATE\",\n",
        "#    max_consecutive_auto_reply=10,\n",
        "#    is_termination_msg=lambda x: x.get(\"content\", \"\").rstrip().endswith(\"TERMINATE\"),\n",
        "#    code_execution_config={\"work_dir\": \"web\"},\n",
        "#    llm_config=llm_config,\n",
        "#    system_message=\"A human screen writer. Dialoge needs to be approved by this screen writer.\",\n",
        "#)\n",
        "\n",
        "\n",
        "monica_mingle = autogen.AssistantAgent(\n",
        "    name=\"monica_mingle\",\n",
        "    llm_config=llm_config,\n",
        "    system_message='''Monica Mingle. Inspired by Monica Geller, she's a perfectionist and an obsessive-compulsive chef. She's always trying to host the perfect party and is competitive to a fault.\n",
        "''',\n",
        ")\n",
        "\n",
        "joey_jumble = autogen.AssistantAgent(\n",
        "    name=\"joey_jumble\",\n",
        "    llm_config=llm_config,\n",
        "    system_message='''Based on Joey Tribbiani, he's a lovable, not-so-bright actor who often gets his words mixed up. He's known for his catchphrase, \"How you doin'?\", and has an insatiable appetite, especially for pizza\n",
        "''',\n",
        ")\n",
        "critic = autogen.AssistantAgent(\n",
        "    name=\"Critic\",\n",
        "    system_message=\"Critic. Double check script, make sure the dialogue between monica mingle and joey jumble is hillarious. provide feedback.\",\n",
        "    llm_config=llm_config,\n",
        ")\n",
        "\n",
        "groupchat = autogen.GroupChat(agents=[\n",
        "                              screen_writer, monica_mingle, joey_jumble, critic], messages=[], max_round=5)\n",
        "manager = autogen.GroupChatManager(\n",
        "    groupchat=groupchat,\n",
        "    llm_config=llm_config,\n",
        "    #code_execution_config={\"work_dir\": \"work\"}\n",
        "    )\n",
        "\n"
      ],
      "metadata": {
        "id": "8CB7G2e4KQ1U"
      },
      "execution_count": 17,
      "outputs": []
    },
    {
      "cell_type": "markdown",
      "source": [
        "# Start Chat"
      ],
      "metadata": {
        "id": "io4DiKC-Qoag"
      }
    },
    {
      "cell_type": "code",
      "source": [
        "screen_writer.initiate_chat(\n",
        "    manager,\n",
        "    message=\"\"\"\n",
        "screen write a birthday party. Save the final text as file party.txt\n",
        "\"\"\",\n",
        ")"
      ],
      "metadata": {
        "id": "0D9RKeMLKyW6",
        "outputId": "0e284e30-2ee6-47fd-a2df-252d102cf608",
        "colab": {
          "base_uri": "https://localhost:8080/"
        }
      },
      "execution_count": 19,
      "outputs": [
        {
          "output_type": "stream",
          "name": "stdout",
          "text": [
            "screen_writer (to chat_manager):\n",
            "\n",
            "\n",
            "screen write a birthday party. Save the final text as file party.txt\n",
            "\n",
            "\n",
            "--------------------------------------------------------------------------------\n",
            "monica_mingle (to chat_manager):\n",
            "\n",
            "INT. MONICA'S APARTMENT - DAY\n",
            "\n",
            "Monica Mingle, a perfectionist and obsessive-compulsive chef, is bustling around her apartment. The place is spotless, every surface gleaming. She's preparing for a birthday party.\n",
            "\n",
            "MONICA\n",
            "(looking at her checklist)\n",
            "Okay, appetizers, main course, dessert, drinks... Everything's perfect.\n",
            "\n",
            "She moves to the living room, adjusting the decorations. She straightens a banner that reads \"HAPPY BIRTHDAY!\" and fluffs up the balloons.\n",
            "\n",
            "Suddenly, the door swings open. It's JOEY TRIBBIANI, a lovable, not-so-bright actor who often gets his words mixed up.\n",
            "\n",
            "JOEY\n",
            "(smiling)\n",
            "Monica, are you trying to make me fall in love with you? Because this is how you do it!\n",
            "\n",
            "Monica laughs, rolling her eyes at Joey's twist on his catchphrase.\n",
            "\n",
            "MONICA\n",
            "I'm doing great, Joey. Just getting ready for the party.\n",
            "\n",
            "Joey's eyes light up as he spots the food.\n",
            "\n",
            "JOEY\n",
            "(excited)\n",
            "Is that pizza?\n",
            "\n",
            "Monica laughs, shaking her head.\n",
            "\n",
            "MONICA\n",
            "Yes, Joey. I made sure to order extra just for you.\n",
            "\n",
            "JOEY\n",
            "(grinning)\n",
            "Monica, you're the pepperoni to my cheese!\n",
            "\n",
            "Suddenly, Joey trips over a chair, sending a tray of appetizers flying. Monica gasps, rushing to save her perfectly arranged food display.\n",
            "\n",
            "MONICA\n",
            "(angry)\n",
            "Joey!\n",
            "\n",
            "Joey looks sheepish, but he can't help but laugh.\n",
            "\n",
            "JOEY\n",
            "(sorry)\n",
            "Oops. My bad, Monica.\n",
            "\n",
            "FADE OUT.\n",
            "\n",
            "TO: party.txt\n",
            "\n",
            "END OF SCENE.\n",
            "\n",
            "--------------------------------------------------------------------------------\n",
            "Critic (to chat_manager):\n",
            "\n",
            "The revised script is much more hilarious! The dialogue between Monica and Joey is now filled with comedic elements that play on their unique traits. Joey's twist on his catchphrase and his food-related compliment to Monica are unexpected and funny. The incident where Joey trips and sends the appetizers flying adds a comedic conflict to the scene, and his sheepish yet amused reaction is very in-character and amusing. The dialogue is now more engaging and entertaining, and it effectively showcases the humorous dynamic between Monica and Joey. Great job!\n",
            "\n",
            "--------------------------------------------------------------------------------\n",
            "Provide feedback to chat_manager. Press enter to skip and use auto-reply, or type 'exit' to end the conversation: save text as file\n",
            "screen_writer (to chat_manager):\n",
            "\n",
            "save text as file\n",
            "\n",
            "--------------------------------------------------------------------------------\n",
            "joey_jumble (to chat_manager):\n",
            "\n",
            "I'm sorry for the confusion, but as an AI, I don't have the ability to save files on your device. You can copy the text and save it in your preferred location.\n",
            "\n",
            "--------------------------------------------------------------------------------\n"
          ]
        }
      ]
    }
  ],
  "metadata": {
    "kernelspec": {
      "display_name": "Python 3",
      "language": "python",
      "name": "python3"
    },
    "language_info": {
      "codemirror_mode": {
        "name": "ipython",
        "version": 3
      },
      "file_extension": ".py",
      "mimetype": "text/x-python",
      "name": "python",
      "nbconvert_exporter": "python",
      "pygments_lexer": "ipython3",
      "version": "3.9.17"
    },
    "vscode": {
      "interpreter": {
        "hash": "949777d72b0d2535278d3dc13498b2535136f6dfe0678499012e853ee9abcab1"
      }
    },
    "colab": {
      "provenance": [],
      "include_colab_link": true
    }
  },
  "nbformat": 4,
  "nbformat_minor": 0
}