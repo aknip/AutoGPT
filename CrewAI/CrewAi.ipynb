{
 "cells": [
  {
   "cell_type": "markdown",
   "id": "38623566-8d3a-480e-a601-ba912506eb9a",
   "metadata": {},
   "source": [
    "# CrewAI\n",
    "\n",
    "How to use:\n",
    "- Run \"Setup\"\n",
    "- Jump to one of the chapters and execute the cells, all chapters are independent from each other\n",
    "\n",
    "# TOC\n",
    "\n",
    "1. [CrewAI: Tool Tests](#CrewAI:-Tool-Tests)\n",
    "1. [Web Researcher](#1.-Web-Researcher)"
   ]
  },
  {
   "cell_type": "markdown",
   "id": "c0212cbd-52a7-4557-8f6a-0415bf81994c",
   "metadata": {},
   "source": [
    "# Notes\n",
    "\n",
    "## Tools\n",
    "\n",
    "- ServerDevTool (Google) works better than DuckDuckGoSearchRun (DuckDuckGo). Eg. it provides the dates of the found articles, which DuckDuckGoSearchRun does not do"
   ]
  },
  {
   "cell_type": "markdown",
   "id": "614137ae-0a24-40d5-b9c5-80c6bda21f69",
   "metadata": {},
   "source": [
    "# Setup"
   ]
  },
  {
   "cell_type": "code",
   "execution_count": 1,
   "id": "1bb603db-a7c1-4c53-a100-e56147fedb7d",
   "metadata": {},
   "outputs": [],
   "source": [
    "#!uv pip install jupyterlab==4.2.1 pyautogen==0.2.27 crewai==0.30.11 crewai-tools==0.2.6 duckduckgo-search==6.1.4 agentops==0.2.0"
   ]
  },
  {
   "cell_type": "code",
   "execution_count": 2,
   "id": "954805b5-5871-49b0-8e60-ae3602426c28",
   "metadata": {},
   "outputs": [],
   "source": [
    "#!uv pip freeze > requirements.txt\n",
    "#uv pip install -r requirements.txt"
   ]
  },
  {
   "cell_type": "code",
   "execution_count": 9,
   "id": "bd0b26cc",
   "metadata": {},
   "outputs": [],
   "source": [
    "# Warning control\n",
    "import warnings\n",
    "warnings.filterwarnings('ignore')"
   ]
  },
  {
   "cell_type": "code",
   "execution_count": 10,
   "id": "ae611e7b-964f-4593-a938-a712ae027d75",
   "metadata": {},
   "outputs": [],
   "source": [
    "import json\n",
    "import os\n",
    "from getpass import getpass\n",
    "import psutil\n",
    "import openai\n",
    "IN_NOTEBOOK = any([\"jupyter-lab\" in i for i in psutil.Process().parent().cmdline()])\n",
    "if IN_NOTEBOOK:\n",
    "  CREDS = json.loads(getpass(\"Secrets (JSON string): \"))\n",
    "  os.environ['CREDS'] = json.dumps(CREDS)\n",
    "  CREDS = json.loads(os.getenv('CREDS'))"
   ]
  },
  {
   "cell_type": "code",
   "execution_count": 11,
   "id": "d7dd1522",
   "metadata": {},
   "outputs": [],
   "source": [
    "from os import environ\n",
    "if environ.get('OPENAI_API_KEY') is None:\n",
    "    print('Environment variable not found. Setting values...')\n",
    "    os.environ[\"OPENAI_API_KEY\"] = CREDS['OpenAI']['v2']['credential'] \n",
    "    os.environ[\"TOGETHERAI_API_KEY\"] = CREDS['together-ai']['key']['credential']\n",
    "    os.environ['ANTHROPIC_API_KEY'] = CREDS['anthropic']['key']['credential']\n",
    "    os.environ[\"SERPER_API_KEY\"] = CREDS['serper_dev']['key']['credential']\n",
    "    #openai.api_key = CREDS['OpenAI']['v2']['credential'] "
   ]
  },
  {
   "cell_type": "code",
   "execution_count": null,
   "id": "04c53338-a7ad-4418-8115-f0072b87f25e",
   "metadata": {},
   "outputs": [],
   "source": []
  },
  {
   "cell_type": "code",
   "execution_count": 12,
   "id": "68b6e35c-59bb-4fa1-90f1-16cda6fa744d",
   "metadata": {},
   "outputs": [],
   "source": [
    "# Enable Langchain Tracing\n",
    "#os.environ[\"LANGCHAIN_API_KEY\"] = CREDS['langsmith']['key']['credential']\n",
    "#os.environ[\"LANGCHAIN_TRACING_V2\"] = \"true\""
   ]
  },
  {
   "cell_type": "code",
   "execution_count": 13,
   "id": "dea9af0e-4017-41af-87cb-16c98b580da4",
   "metadata": {},
   "outputs": [],
   "source": [
    "# Enable Agentop Tracing\n",
    "#os.environ[\"AGENTOPS_API_KEY\"] = CREDS['agentops']['key']['credential']\n",
    "#import agentops\n",
    "#agentops.init()"
   ]
  },
  {
   "cell_type": "markdown",
   "id": "acd7da72-7a15-4299-9494-aa286eb8c4de",
   "metadata": {},
   "source": [
    "# Get list of available OpenAI models"
   ]
  },
  {
   "cell_type": "code",
   "execution_count": 14,
   "id": "8fa1aaa7-bf54-4802-9bb5-bb50a6a8ee08",
   "metadata": {},
   "outputs": [
    {
     "name": "stdout",
     "output_type": "stream",
     "text": [
      "dall-e-3\n",
      "gpt-4-1106-preview\n",
      "whisper-1\n",
      "davinci-002\n",
      "babbage-002\n",
      "dall-e-2\n",
      "gpt-3.5-turbo-16k\n",
      "tts-1-hd-1106\n",
      "tts-1-hd\n",
      "gpt-3.5-turbo-1106\n",
      "gpt-4o-2024-05-13\n",
      "gpt-4o\n",
      "gpt-3.5-turbo-instruct-0914\n",
      "gpt-3.5-turbo-instruct\n",
      "text-embedding-3-small\n",
      "gpt-4-turbo-2024-04-09\n",
      "tts-1\n",
      "gpt-4-turbo\n",
      "gpt-4-0125-preview\n",
      "gpt-3.5-turbo-0125\n",
      "gpt-3.5-turbo\n",
      "gpt-3.5-turbo-0301\n",
      "gpt-4-turbo-preview\n",
      "tts-1-1106\n",
      "text-embedding-3-large\n",
      "gpt-3.5-turbo-0613\n",
      "gpt-4\n",
      "text-embedding-ada-002\n",
      "gpt-4-1106-vision-preview\n",
      "gpt-3.5-turbo-16k-0613\n",
      "gpt-4-0613\n",
      "gpt-4-vision-preview\n"
     ]
    }
   ],
   "source": [
    "client = openai.OpenAI()\n",
    "model_list = client.models.list()\n",
    "for model in model_list:\n",
    "  print(model.id)"
   ]
  },
  {
   "cell_type": "code",
   "execution_count": null,
   "id": "c4250daf-827f-43ca-a8d7-3ee67c05ce98",
   "metadata": {},
   "outputs": [],
   "source": []
  },
  {
   "cell_type": "code",
   "execution_count": null,
   "id": "fa5e949d-8222-419b-be78-d19f44d2c726",
   "metadata": {},
   "outputs": [],
   "source": []
  },
  {
   "cell_type": "markdown",
   "id": "90487623-b896-444a-8f86-5673dbcb3245",
   "metadata": {},
   "source": [
    "# CrewAI: Tool Tests"
   ]
  },
  {
   "cell_type": "code",
   "execution_count": 15,
   "id": "ee94e875-fb8b-4c29-8b1e-13636964f69b",
   "metadata": {},
   "outputs": [
    {
     "name": "stderr",
     "output_type": "stream",
     "text": [
      "2024-06-03 05:03:29,551 - 140656029559680 - __init__.py-__init__:518 - WARNING: Overriding of current TracerProvider is not allowed\n"
     ]
    }
   ],
   "source": [
    "from crewai import Agent\n",
    "from crewai_tools import SerperDevTool\n",
    "from langchain_community.tools import DuckDuckGoSearchRun\n",
    "\n",
    "os.environ[\"OPENAI_MODEL_NAME\"]=\"gpt-4o\" # or \"gpt-4-1106-preview\"\n",
    "\n",
    "# Creating a senior researcher agent with memory and verbose mode\n",
    "researcher = Agent(\n",
    "  role='Senior Researcher',\n",
    "  goal='Answer the following question: {topic}',\n",
    "  verbose=True,\n",
    "  memory=True,\n",
    "  backstory=(\n",
    "    \"Driven by curiosity, you're at the forefront of\"\n",
    "    \"information research, eager to explore and find knowledge.\"\n",
    "  ),\n",
    "  #tools=[search_tool],\n",
    "  #allow_delegation=True\n",
    ")\n",
    "\n",
    "from crewai import Task\n",
    "\n",
    "\n",
    "# Writing task with language model configuration\n",
    "answer = Task(\n",
    "  description=(\n",
    "    \"Answer the question '{topic}'.\"\n",
    "    \"Answer in a short and precise way, do not add anything else.\" # Use bulletpoints to structure your answer. \"\n",
    "    \"Write your answer to a file.\"\n",
    "  ),\n",
    "  expected_output=\"The answer to the question '{topic}'\", #,formatted as markdown.\n",
    "  #tools=[search_tool_google],\n",
    "  agent=researcher,\n",
    "  async_execution=False,\n",
    "  output_file='agent-output.txt'  # This is necessary to create the output as file\n",
    ")\n",
    "\n",
    "from crewai import Crew, Process\n",
    "\n",
    "# Forming the tech-focused crew with some enhanced configurations\n",
    "crew = Crew(\n",
    "  agents=[researcher],\n",
    "  tasks=[answer],\n",
    "  process=Process.sequential,  # Optional: Sequential task execution is default\n",
    "  memory=True,\n",
    "  cache=False,\n",
    "  max_rpm=100,\n",
    "  share_crew=True\n",
    ")"
   ]
  },
  {
   "cell_type": "code",
   "execution_count": 16,
   "id": "cff6c155-6ceb-4e45-9f24-0a08a6c13381",
   "metadata": {},
   "outputs": [
    {
     "name": "stdout",
     "output_type": "stream",
     "text": [
      "\n",
      "\n",
      "\u001b[1m> Entering new CrewAgentExecutor chain...\u001b[0m\n",
      "\u001b[32;1m\u001b[1;3mThought: I now can give a great answer\n",
      "Final Answer: 10 + 20 equals 30\u001b[0m\n",
      "\n",
      "\u001b[1m> Finished chain.\u001b[0m\n",
      "10 + 20 equals 30\n"
     ]
    }
   ],
   "source": [
    "# Starting the task execution process with enhanced feedback\n",
    "result = crew.kickoff(inputs={'topic': 'What is 10+20?'}) \n",
    "print(result)"
   ]
  },
  {
   "cell_type": "code",
   "execution_count": 10,
   "id": "e87134cd-0f79-4603-b35a-3d380c99232a",
   "metadata": {},
   "outputs": [
    {
     "data": {
      "text/markdown": [
       "My best complete final answer to the task is 10 + 20 = 30."
      ],
      "text/plain": [
       "<IPython.core.display.Markdown object>"
      ]
     },
     "metadata": {},
     "output_type": "display_data"
    }
   ],
   "source": [
    "from IPython.display import Markdown,display\n",
    "display(Markdown(result))"
   ]
  },
  {
   "cell_type": "code",
   "execution_count": null,
   "id": "75863e1e-ae5f-405c-be4f-a6c3cfab2584",
   "metadata": {},
   "outputs": [],
   "source": []
  },
  {
   "cell_type": "markdown",
   "id": "4364b961-ee2a-4106-9830-f4e7031c9aaf",
   "metadata": {},
   "source": [
    "# 1. Web Researcher \n",
    "\n",
    "- searches Google and returns Top 5 results report\n",
    "- adopted from example below"
   ]
  },
  {
   "cell_type": "code",
   "execution_count": 20,
   "id": "2a8441bd-f157-420e-862f-dc56ddb0c0af",
   "metadata": {},
   "outputs": [],
   "source": [
    "from crewai import Agent\n",
    "from crewai_tools import SerperDevTool\n",
    "from langchain_community.tools import DuckDuckGoSearchRun\n",
    "\n",
    "search_tool_google = SerperDevTool()\n",
    "search_tool_duckduckgo = DuckDuckGoSearchRun()\n",
    "\n",
    "search_tool = search_tool_google\n",
    "\n",
    "os.environ[\"OPENAI_MODEL_NAME\"]=\"gpt-3.5-turbo\" # or \"gpt-4o\" # or \"gpt-4-1106-preview\"\n",
    "\n",
    "# Creating a senior researcher agent\n",
    "researcher = Agent(\n",
    "  role='Senior Researcher',\n",
    "  goal='Find most relevant sources in the web {topic}',\n",
    "  backstory=(\n",
    "    \"Driven by curiosity, you're at the forefront of\"\n",
    "    \"information research, eager to explore and find knowledge.\"\n",
    "  ),\n",
    "  tools=[search_tool],\n",
    "  allow_delegation=False,\n",
    "\tverbose=True\n",
    ")\n",
    "\n",
    "# Creating a writer agent with \n",
    "writer = Agent(\n",
    "  role='Writer',\n",
    "  goal='Writing precise reports about {topic}',\n",
    "  backstory=(\n",
    "    \"With a flair for simplifying complex topics, you craft\"\n",
    "    \"reports and summaries on an expert level.\"\n",
    "  ),\n",
    "  allow_delegation=False,\n",
    "  verbose=True\n",
    ")"
   ]
  },
  {
   "cell_type": "code",
   "execution_count": 21,
   "id": "ce7d5b28-2fd0-436a-a107-6dcd7644082e",
   "metadata": {},
   "outputs": [],
   "source": [
    "from crewai import Task\n",
    "\n",
    "# Research task\n",
    "research_task = Task(\n",
    "  description=(\n",
    "    \"Search the web for the most relevant articles about {topic} in 2024.\"\n",
    "    \"Focus on sources like scientific papers, newspapers and expert blogs.\"\n",
    "    \"Your final report should list the 5 most relevant articles including URL, date, headline and a short summary.\"\n",
    "  ),\n",
    "  expected_output='A comprehensive list of search results.',\n",
    "  tools=[search_tool],\n",
    "  agent=researcher\n",
    ")\n",
    "\n",
    "# Writing task with language model configuration\n",
    "write_task = Task(\n",
    "  description=(\n",
    "    \"Compose an insightful report on {topic}.\"\n",
    "    \"Take the given articles and write for each of them one chapter. Include the source URL and date.\"\n",
    "  ),\n",
    "  expected_output='A 4 report on {topic}, listing the most relevant sources, formatted as markdown.',\n",
    "  #tools=[search_tool_google],\n",
    "  agent=writer\n",
    ")"
   ]
  },
  {
   "cell_type": "code",
   "execution_count": 22,
   "id": "fed355b9-ec7a-4d90-9f90-6b2d146e702c",
   "metadata": {},
   "outputs": [
    {
     "name": "stderr",
     "output_type": "stream",
     "text": [
      "2024-06-03 05:11:16,622 - 140656029559680 - __init__.py-__init__:518 - WARNING: Overriding of current TracerProvider is not allowed\n"
     ]
    }
   ],
   "source": [
    "from crewai import Crew, Process\n",
    "\n",
    "# Forming the tech-focused crew with some enhanced configurations\n",
    "crew = Crew(\n",
    "  agents=[researcher, writer],\n",
    "  tasks=[research_task, write_task],\n",
    "  process=Process.sequential,  # Optional: Sequential task execution is default\n",
    "  memory=True,\n",
    "  cache=True,\n",
    "  max_rpm=100,\n",
    "  share_crew=True\n",
    ")"
   ]
  },
  {
   "cell_type": "code",
   "execution_count": 23,
   "id": "551bb327-9f6d-4a6c-a11b-2071ba3dacfe",
   "metadata": {},
   "outputs": [
    {
     "name": "stdout",
     "output_type": "stream",
     "text": [
      "\n",
      "\n",
      "\u001b[1m> Entering new CrewAgentExecutor chain...\u001b[0m\n",
      "\u001b[32;1m\u001b[1;3mI need to carefully search the web for the most relevant articles about whether Apple's Siri will get smarter in 2024. I should focus on scientific papers, newspapers, and expert blogs to find the most reliable information.\n",
      "\n",
      "Action: Search the internet\n",
      "Action Input: {\"search_query\": \"Wird Apples Siri 2024 intelligenter?\"}\u001b[0m\u001b[95m \n",
      "\n",
      "\n",
      "Search results: Title: Better Siri is coming: what Apple's research says about its AI plans\n",
      "Link: https://www.theverge.com/2024/5/5/24147995/apple-siri-ai-research-chatbot-creativity\n",
      "Snippet: For the last few years, Apple has been looking into ways to use AI to improve Siri, give tools to artists, improve health data, and more.\n",
      "---\n",
      "Title: Will Siri ever become more intelligent? : r/apple - Reddit\n",
      "Link: https://www.reddit.com/r/apple/comments/10x2b95/will_siri_ever_become_more_intelligent/\n",
      "Snippet: They know it. Apple will release siri 2.0 in 2023 or 2024.\n",
      "---\n",
      "Title: Apple's AI-based Siri assistant to let you control app functions with ...\n",
      "Link: https://www.business-standard.com/technology/tech-news/apple-s-ai-based-siri-assistant-to-let-you-control-app-functions-with-voice-124053100518_1.html\n",
      "Snippet: The new system will allow the Siri assistant to control and navigate an iPhone or iPad with more precision.\n",
      "---\n",
      "Title: Apple may launch a new gen AI-powered version of Siri at WWDC ...\n",
      "Link: https://timesofindia.indiatimes.com/gadgets-news/apple-may-launch-a-new-gen-ai-powered-version-of-siri-at-wwdc-2024-what-to-expect/articleshow/106583931.cms\n",
      "Snippet: Apple is rumoured to unveil a major upgrade for Siri at WWDC 2024. The new version of Siri will be powered by advanced artificial intelligence ...\n",
      "---\n",
      "Title: Prediction: The Vision Pro isn't Apple's ace in the hole for 2024; Siri ...\n",
      "Link: https://www.phonearena.com/news/prediction-vision-pro-isnt-apple-ace-in-the-hole-for-2024-siri-about-to-evolve-big-time-with-generative-ai_id156021\n",
      "Snippet: The new 2024 Siri may get ChatGPT-like conversational abilities; actual comprehension of written and spoken word, not just basic commands and ...\n",
      "---\n",
      "Title: Apple Finally Unveils Siri's AI Future - Medium\n",
      "Link: https://medium.com/@ignacio.de.gregorio.noblejas/apple-finally-unveils-siris-ai-future-800bc144dd8a\n",
      "Snippet: With Siri desperately asking for an upgrade, we are finally starting to see Apple's intentions with the release of new AI models that look ...\n",
      "---\n",
      "Title: Siri AI updates at WWDC 2024: What is Apple planning for its virtual ...\n",
      "Link: https://www.indiatoday.in/amp/technology/news/story/siri-ai-update-wwdc-what-is-apple-planning-for-its-virtual-assistant-2546057-2024-05-31\n",
      "Snippet: Apple is planning to revamp SIri's software to make it more advanced with the help of AI. With the new update, Siri will have the features ...\n",
      "---\n",
      "Title: AI Siri at WWDC 2024: Apple to let iPhone users control apps with ...\n",
      "Link: https://www.financialexpress.com/life/technology-ai-siri-at-wwdc-2024-apple-to-let-iphone-users-control-apps-with-voicenbsp-3508521/\n",
      "Snippet: According to Bloomberg's Mark Gurman, this new update will allow Siri to analyse the activity on your phone and trigger customised functions ...\n",
      "---\n",
      "Title: 5 Predictions for Apple's AI Announcements at WWDC 2024\n",
      "Link: https://www.howtogeek.com/predictions-for-apple-ai-announcements-at-wwdc/\n",
      "Snippet: 1 Siri Will Become a Proper Chatbot/LLM ; 2 Siri Will Remain the Brand for Apple's (New) AI Assistant ; 3 Apple Watch Will Become a Better ...\n",
      "---\n",
      "Title: Apple's New AI Model Could Make Siri Less Terrible - Tech.co\n",
      "Link: https://tech.co/news/apples-new-ai-model-realm-siri\n",
      "Snippet: Apple recently published a research paper that points to it releasing a new AI model that will be used to improve Siri's functionality across ...\n",
      "---\n",
      "\n",
      "\u001b[00m\n",
      "\u001b[32;1m\u001b[1;3mFinal Answer:\n",
      "\n",
      "1. Title: Better Siri is coming: what Apple's research says about its AI plans\n",
      "Link: https://www.theverge.com/2024/5/5/24147995/apple-siri-ai-research-chatbot-creativity\n",
      "Summary: Apple has been looking into ways to use AI to improve Siri, give tools to artists, improve health data, and more.\n",
      "\n",
      "2. Title: Apple's AI-based Siri assistant to let you control app functions with ...\n",
      "Link: https://www.business-standard.com/technology/tech-news/apple-s-ai-based-siri-assistant-to-let-you-control-app-functions-with-voice-124053100518_1.html\n",
      "Summary: The new system will allow the Siri assistant to control and navigate an iPhone or iPad with more precision.\n",
      "\n",
      "3. Title: Apple may launch a new gen AI-powered version of Siri at WWDC ...\n",
      "Link: https://timesofindia.indiatimes.com/gadgets-news/apple-may-launch-a-new-gen-ai-powered-version-of-siri-at-wwdc-2024-what-to-expect/articleshow/106583931.cms\n",
      "Summary: Apple is rumored to unveil a major upgrade for Siri at WWDC 2024. The new version of Siri will be powered by advanced artificial intelligence.\n",
      "\n",
      "4. Title: Prediction: The Vision Pro isn't Apple's ace in the hole for 2024; Siri ...\n",
      "Link: https://www.phonearena.com/news/prediction-vision-pro-isnt-apple-ace-in-the-hole-for-2024-siri-about-to-evolve-big-time-with-generative-ai_id156021\n",
      "Summary: The new 2024 Siri may get ChatGPT-like conversational abilities; actual comprehension of written and spoken word, not just basic commands.\n",
      "\n",
      "5. Title: Siri AI updates at WWDC 2024: What is Apple planning for its virtual ...\n",
      "Link: https://www.indiatoday.in/amp/technology/news/story/siri-ai-update-wwdc-what-is-apple-planning-for-its-virtual-assistant-2546057-2024-05-31\n",
      "Summary: Apple is planning to revamp Siri's software to make it more advanced with the help of AI. With the new update, Siri will have advanced features.\u001b[0m\n",
      "\n",
      "\u001b[1m> Finished chain.\u001b[0m\n",
      "\n",
      "\n",
      "\u001b[1m> Entering new CrewAgentExecutor chain...\u001b[0m\n",
      "\u001b[32;1m\u001b[1;3mI now can give a great answer\n",
      "\n",
      "Final Answer:\n",
      "# Report: Wird Apples Siri 2024 intelligenter?\n",
      "\n",
      "## Einleitung\n",
      "Die Zukunft von Apples Siri wirft viele Fragen auf, insbesondere in Bezug auf ihre Intelligenz und Funktionalität im Jahr 2024. Verschiedene Quellen deuten darauf hin, dass Apple intensiv an der Weiterentwicklung von Siri arbeitet, um sie leistungsfähiger und vielseitiger zu machen. In diesem Bericht werden die neuesten Erkenntnisse und Prognosen aus verschiedenen Artikeln zu diesem Thema zusammengefasst.\n",
      "\n",
      "### 1. Better Siri is coming: what Apple's research says about its AI plans\n",
      "- Quelle: [The Verge](https://www.theverge.com/2024/5/5/24147995/apple-siri-ai-research-chatbot-creativity)\n",
      "- Datum: 5. Mai 2024\n",
      "- Zusammenfassung: Apple untersucht Wege, wie KI eingesetzt werden kann, um Siri zu verbessern, Künstlern Werkzeuge zur Verfügung zu stellen, Gesundheitsdaten zu verbessern und mehr.\n",
      "\n",
      "### 2. Apple's AI-based Siri assistant to let you control app functions with ...\n",
      "- Quelle: [Business Standard](https://www.business-standard.com/technology/tech-news/apple-s-ai-based-siri-assistant-to-let-you-control-app-functions-with-voice-124053100518_1.html)\n",
      "- Datum: 31. Mai 2024\n",
      "- Zusammenfassung: Das neue System wird es dem Siri-Assistenten ermöglichen, ein iPhone oder iPad präziser zu steuern und zu navigieren.\n",
      "\n",
      "### 3. Apple may launch a new gen AI-powered version of Siri at WWDC ...\n",
      "- Quelle: [Times of India](https://timesofindia.indiatimes.com/gadgets-news/apple-may-launch-a-new-gen-ai-powered-version-of-siri-at-wwdc-2024-what-to-expect/articleshow/106583931.cms)\n",
      "- Datum: Nicht angegeben\n",
      "- Zusammenfassung: Es wird gemunkelt, dass Apple auf der WWDC 2024 ein großes Upgrade für Siri vorstellen wird. Die neue Version von Siri wird von fortschrittlicher künstlicher Intelligenz angetrieben.\n",
      "\n",
      "### 4. Prediction: The Vision Pro isn't Apple's ace in the hole for 2024; Siri ...\n",
      "- Quelle: [Phone Arena](https://www.phonearena.com/news/prediction-vision-pro-isnt-apple-ace-in-the-hole-for-2024-siri-about-to-evolve-big-time-with-generative-ai_id156021)\n",
      "- Datum: Nicht angegeben\n",
      "- Zusammenfassung: Das neue Siri 2024 könnte über ChatGPT-ähnliche Konversationsfähigkeiten verfügen; tatsächliches Verständnis von geschriebenem und gesprochenem Wort, nicht nur grundlegende Befehle.\n",
      "\n",
      "### 5. Siri AI updates at WWDC 2024: What is Apple planning for its virtual ...\n",
      "- Quelle: [India Today](https://www.indiatoday.in/amp/technology/news/story/siri-ai-update-wwdc-what-is-apple-planning-for-its-virtual-assistant-2546057-2024-05-31)\n",
      "- Datum: 31. Mai 2024\n",
      "- Zusammenfassung: Apple plant, Siris Software zu überarbeiten, um sie mit Hilfe von KI fortschrittlicher zu machen. Mit dem neuen Update wird Siri über fortschrittliche Funktionen verfügen.\n",
      "\n",
      "Durch die Zusammenfassung und Analyse dieser Artikel lässt sich vermuten, dass Apples Siri im Jahr 2024 voraussichtlich intelligenter und leistungsfähiger sein wird. Mit dem Einsatz von fortgeschrittener künstlicher Intelligenz und innovativen Funktionen könnte Siri zu einem noch nützlicheren virtuellen Assistenten werden. Es bleibt spannend, die zukünftigen Entwicklungen von Siri im Auge zu behalten.\u001b[0m\n",
      "\n",
      "\u001b[1m> Finished chain.\u001b[0m\n",
      "# Report: Wird Apples Siri 2024 intelligenter?\n",
      "\n",
      "## Einleitung\n",
      "Die Zukunft von Apples Siri wirft viele Fragen auf, insbesondere in Bezug auf ihre Intelligenz und Funktionalität im Jahr 2024. Verschiedene Quellen deuten darauf hin, dass Apple intensiv an der Weiterentwicklung von Siri arbeitet, um sie leistungsfähiger und vielseitiger zu machen. In diesem Bericht werden die neuesten Erkenntnisse und Prognosen aus verschiedenen Artikeln zu diesem Thema zusammengefasst.\n",
      "\n",
      "### 1. Better Siri is coming: what Apple's research says about its AI plans\n",
      "- Quelle: [The Verge](https://www.theverge.com/2024/5/5/24147995/apple-siri-ai-research-chatbot-creativity)\n",
      "- Datum: 5. Mai 2024\n",
      "- Zusammenfassung: Apple untersucht Wege, wie KI eingesetzt werden kann, um Siri zu verbessern, Künstlern Werkzeuge zur Verfügung zu stellen, Gesundheitsdaten zu verbessern und mehr.\n",
      "\n",
      "### 2. Apple's AI-based Siri assistant to let you control app functions with ...\n",
      "- Quelle: [Business Standard](https://www.business-standard.com/technology/tech-news/apple-s-ai-based-siri-assistant-to-let-you-control-app-functions-with-voice-124053100518_1.html)\n",
      "- Datum: 31. Mai 2024\n",
      "- Zusammenfassung: Das neue System wird es dem Siri-Assistenten ermöglichen, ein iPhone oder iPad präziser zu steuern und zu navigieren.\n",
      "\n",
      "### 3. Apple may launch a new gen AI-powered version of Siri at WWDC ...\n",
      "- Quelle: [Times of India](https://timesofindia.indiatimes.com/gadgets-news/apple-may-launch-a-new-gen-ai-powered-version-of-siri-at-wwdc-2024-what-to-expect/articleshow/106583931.cms)\n",
      "- Datum: Nicht angegeben\n",
      "- Zusammenfassung: Es wird gemunkelt, dass Apple auf der WWDC 2024 ein großes Upgrade für Siri vorstellen wird. Die neue Version von Siri wird von fortschrittlicher künstlicher Intelligenz angetrieben.\n",
      "\n",
      "### 4. Prediction: The Vision Pro isn't Apple's ace in the hole for 2024; Siri ...\n",
      "- Quelle: [Phone Arena](https://www.phonearena.com/news/prediction-vision-pro-isnt-apple-ace-in-the-hole-for-2024-siri-about-to-evolve-big-time-with-generative-ai_id156021)\n",
      "- Datum: Nicht angegeben\n",
      "- Zusammenfassung: Das neue Siri 2024 könnte über ChatGPT-ähnliche Konversationsfähigkeiten verfügen; tatsächliches Verständnis von geschriebenem und gesprochenem Wort, nicht nur grundlegende Befehle.\n",
      "\n",
      "### 5. Siri AI updates at WWDC 2024: What is Apple planning for its virtual ...\n",
      "- Quelle: [India Today](https://www.indiatoday.in/amp/technology/news/story/siri-ai-update-wwdc-what-is-apple-planning-for-its-virtual-assistant-2546057-2024-05-31)\n",
      "- Datum: 31. Mai 2024\n",
      "- Zusammenfassung: Apple plant, Siris Software zu überarbeiten, um sie mit Hilfe von KI fortschrittlicher zu machen. Mit dem neuen Update wird Siri über fortschrittliche Funktionen verfügen.\n",
      "\n",
      "Durch die Zusammenfassung und Analyse dieser Artikel lässt sich vermuten, dass Apples Siri im Jahr 2024 voraussichtlich intelligenter und leistungsfähiger sein wird. Mit dem Einsatz von fortgeschrittener künstlicher Intelligenz und innovativen Funktionen könnte Siri zu einem noch nützlicheren virtuellen Assistenten werden. Es bleibt spannend, die zukünftigen Entwicklungen von Siri im Auge zu behalten.\n"
     ]
    }
   ],
   "source": [
    "# Starting the task execution process with enhanced feedback\n",
    "# result = crew.kickoff(inputs={'topic': 'will donald trumps chances of winning the presidential election diminish after his conviction in court?'})\n",
    "# result = crew.kickoff(inputs={'topic': 'Will Apples Siri get smarter in 2024?'}) \n",
    "result = crew.kickoff(inputs={'topic': 'Will Apples Siri get smarter in 2024? Answer in German language'}) \n",
    "print(result)"
   ]
  },
  {
   "cell_type": "code",
   "execution_count": 24,
   "id": "c473b5d3-c603-49eb-aeb7-c7bdab27dd74",
   "metadata": {},
   "outputs": [
    {
     "data": {
      "text/markdown": [
       "# Report: Wird Apples Siri 2024 intelligenter?\n",
       "\n",
       "## Einleitung\n",
       "Die Zukunft von Apples Siri wirft viele Fragen auf, insbesondere in Bezug auf ihre Intelligenz und Funktionalität im Jahr 2024. Verschiedene Quellen deuten darauf hin, dass Apple intensiv an der Weiterentwicklung von Siri arbeitet, um sie leistungsfähiger und vielseitiger zu machen. In diesem Bericht werden die neuesten Erkenntnisse und Prognosen aus verschiedenen Artikeln zu diesem Thema zusammengefasst.\n",
       "\n",
       "### 1. Better Siri is coming: what Apple's research says about its AI plans\n",
       "- Quelle: [The Verge](https://www.theverge.com/2024/5/5/24147995/apple-siri-ai-research-chatbot-creativity)\n",
       "- Datum: 5. Mai 2024\n",
       "- Zusammenfassung: Apple untersucht Wege, wie KI eingesetzt werden kann, um Siri zu verbessern, Künstlern Werkzeuge zur Verfügung zu stellen, Gesundheitsdaten zu verbessern und mehr.\n",
       "\n",
       "### 2. Apple's AI-based Siri assistant to let you control app functions with ...\n",
       "- Quelle: [Business Standard](https://www.business-standard.com/technology/tech-news/apple-s-ai-based-siri-assistant-to-let-you-control-app-functions-with-voice-124053100518_1.html)\n",
       "- Datum: 31. Mai 2024\n",
       "- Zusammenfassung: Das neue System wird es dem Siri-Assistenten ermöglichen, ein iPhone oder iPad präziser zu steuern und zu navigieren.\n",
       "\n",
       "### 3. Apple may launch a new gen AI-powered version of Siri at WWDC ...\n",
       "- Quelle: [Times of India](https://timesofindia.indiatimes.com/gadgets-news/apple-may-launch-a-new-gen-ai-powered-version-of-siri-at-wwdc-2024-what-to-expect/articleshow/106583931.cms)\n",
       "- Datum: Nicht angegeben\n",
       "- Zusammenfassung: Es wird gemunkelt, dass Apple auf der WWDC 2024 ein großes Upgrade für Siri vorstellen wird. Die neue Version von Siri wird von fortschrittlicher künstlicher Intelligenz angetrieben.\n",
       "\n",
       "### 4. Prediction: The Vision Pro isn't Apple's ace in the hole for 2024; Siri ...\n",
       "- Quelle: [Phone Arena](https://www.phonearena.com/news/prediction-vision-pro-isnt-apple-ace-in-the-hole-for-2024-siri-about-to-evolve-big-time-with-generative-ai_id156021)\n",
       "- Datum: Nicht angegeben\n",
       "- Zusammenfassung: Das neue Siri 2024 könnte über ChatGPT-ähnliche Konversationsfähigkeiten verfügen; tatsächliches Verständnis von geschriebenem und gesprochenem Wort, nicht nur grundlegende Befehle.\n",
       "\n",
       "### 5. Siri AI updates at WWDC 2024: What is Apple planning for its virtual ...\n",
       "- Quelle: [India Today](https://www.indiatoday.in/amp/technology/news/story/siri-ai-update-wwdc-what-is-apple-planning-for-its-virtual-assistant-2546057-2024-05-31)\n",
       "- Datum: 31. Mai 2024\n",
       "- Zusammenfassung: Apple plant, Siris Software zu überarbeiten, um sie mit Hilfe von KI fortschrittlicher zu machen. Mit dem neuen Update wird Siri über fortschrittliche Funktionen verfügen.\n",
       "\n",
       "Durch die Zusammenfassung und Analyse dieser Artikel lässt sich vermuten, dass Apples Siri im Jahr 2024 voraussichtlich intelligenter und leistungsfähiger sein wird. Mit dem Einsatz von fortgeschrittener künstlicher Intelligenz und innovativen Funktionen könnte Siri zu einem noch nützlicheren virtuellen Assistenten werden. Es bleibt spannend, die zukünftigen Entwicklungen von Siri im Auge zu behalten."
      ],
      "text/plain": [
       "<IPython.core.display.Markdown object>"
      ]
     },
     "metadata": {},
     "output_type": "display_data"
    }
   ],
   "source": [
    "from IPython.display import Markdown,display\n",
    "display(Markdown(result))"
   ]
  },
  {
   "cell_type": "code",
   "execution_count": null,
   "id": "2f68b253-787f-468c-b57f-9ff1aa286810",
   "metadata": {},
   "outputs": [],
   "source": []
  },
  {
   "cell_type": "code",
   "execution_count": null,
   "id": "7a09894c-f0bc-47fc-af7e-d315980ef1b7",
   "metadata": {},
   "outputs": [],
   "source": []
  },
  {
   "cell_type": "code",
   "execution_count": null,
   "id": "043876f7-24fe-49e8-95c1-76c39eac5de1",
   "metadata": {},
   "outputs": [],
   "source": []
  },
  {
   "cell_type": "markdown",
   "id": "bf23d30e-51d1-465e-86b1-21489c0a2b24",
   "metadata": {
    "jp-MarkdownHeadingCollapsed": true
   },
   "source": [
    "# 2. Blog post writer: Researcher, Writer"
   ]
  },
  {
   "cell_type": "code",
   "execution_count": 5,
   "id": "47b3a179-9553-49c9-b8ab-974a28e6e86c",
   "metadata": {},
   "outputs": [],
   "source": [
    "from crewai import Agent\n",
    "from crewai_tools import SerperDevTool\n",
    "search_tool = SerperDevTool()\n",
    "\n",
    "os.environ[\"OPENAI_MODEL_NAME\"]=\"gpt-4o\" # or \"gpt-4-1106-preview\"\n",
    "\n",
    "# Creating a senior researcher agent with memory and verbose mode\n",
    "researcher = Agent(\n",
    "  role='Senior Researcher',\n",
    "  goal='Uncover groundbreaking technologies in {topic}',\n",
    "  verbose=True,\n",
    "  memory=True,\n",
    "  backstory=(\n",
    "    \"Driven by curiosity, you're at the forefront of\"\n",
    "    \"innovation, eager to explore and share knowledge that could change\"\n",
    "    \"the world.\"\n",
    "  ),\n",
    "  tools=[search_tool],\n",
    "  allow_delegation=True\n",
    ")\n",
    "\n",
    "# Creating a writer agent with custom tools and delegation capability\n",
    "writer = Agent(\n",
    "  role='Writer',\n",
    "  goal='Narrate compelling tech stories about {topic}',\n",
    "  verbose=True,\n",
    "  memory=True,\n",
    "  backstory=(\n",
    "    \"With a flair for simplifying complex topics, you craft\"\n",
    "    \"engaging narratives that captivate and educate, bringing new\"\n",
    "    \"discoveries to light in an accessible manner.\"\n",
    "  ),\n",
    "  tools=[search_tool],\n",
    "  allow_delegation=False\n",
    ")"
   ]
  },
  {
   "cell_type": "code",
   "execution_count": 6,
   "id": "0953f5e6-d3ef-4736-aab6-61f955812f34",
   "metadata": {},
   "outputs": [],
   "source": [
    "from crewai import Task\n",
    "\n",
    "# Research task\n",
    "research_task = Task(\n",
    "  description=(\n",
    "    \"Identify the next big trend in {topic}.\"\n",
    "    \"Focus on identifying pros and cons and the overall narrative.\"\n",
    "    \"Your final report should clearly articulate the key points,\"\n",
    "    \"its market opportunities, and potential risks.\"\n",
    "  ),\n",
    "  expected_output='A comprehensive 3 paragraphs long report on the latest AI trends.',\n",
    "  tools=[search_tool],\n",
    "  agent=researcher,\n",
    ")\n",
    "\n",
    "# Writing task with language model configuration\n",
    "write_task = Task(\n",
    "  description=(\n",
    "    \"Compose an insightful article on {topic}.\"\n",
    "    \"Focus on the latest trends and how it's impacting the industry.\"\n",
    "    \"This article should be easy to understand, engaging, and positive.\"\n",
    "  ),\n",
    "  expected_output='A 4 paragraph article on {topic} advancements formatted as markdown.',\n",
    "  tools=[search_tool],\n",
    "  agent=writer,\n",
    "  async_execution=False,\n",
    "  output_file='new-blog-post.md'  # Example of output customization\n",
    ")"
   ]
  },
  {
   "cell_type": "code",
   "execution_count": 7,
   "id": "3233c3c4-b519-4eff-a96f-3f00389c6eb5",
   "metadata": {},
   "outputs": [],
   "source": [
    "from crewai import Crew, Process\n",
    "\n",
    "# Forming the tech-focused crew with some enhanced configurations\n",
    "crew = Crew(\n",
    "  agents=[researcher, writer],\n",
    "  tasks=[research_task, write_task],\n",
    "  process=Process.sequential,  # Optional: Sequential task execution is default\n",
    "  memory=True,\n",
    "  cache=True,\n",
    "  max_rpm=100,\n",
    "  share_crew=True\n",
    ")"
   ]
  },
  {
   "cell_type": "code",
   "execution_count": null,
   "id": "917af77f-797b-48be-a90d-8223ff37507f",
   "metadata": {},
   "outputs": [],
   "source": [
    "# Starting the task execution process with enhanced feedback\n",
    "result = crew.kickoff(inputs={'topic': 'AI in healthcare'}) # in healthcare # in software development\n",
    "print(result)"
   ]
  },
  {
   "cell_type": "code",
   "execution_count": 9,
   "id": "1920176f-4fd0-415d-b6a7-1fc11f0704b0",
   "metadata": {},
   "outputs": [
    {
     "name": "stdout",
     "output_type": "stream",
     "text": [
      "```markdown\n",
      "# AI in Healthcare: A 2023 Snapshot of Innovation and Impact\n",
      "\n",
      "## The Pulse of Progress: Analytics, Diagnostics, Robotics, and Telehealth\n",
      "The healthcare landscape is witnessing a thrilling upsurge in innovation, thanks to Artificial Intelligence (AI). In 2023, AI continues to redefine healthcare analytics, diagnostics, robotics, and telehealth. Data is no longer dormant as AI breathes life into numbers, translating them into actionable insights. Diagnostics are swifter and more precise, with AI algorithms interpreting complex medical images to detect diseases that may slip past human scrutiny. Surgical robots, enhanced by AI, are becoming the norm rather than the exception, enabling surgeons to perform intricate procedures with remarkable precision. Additionally, telehealth has evolved to offer more personalized care through AI, ensuring healthcare is accessible to all, irrespective of geographical barriers.\n",
      "\n",
      "## Real-World Impact: Case Studies and Examples\n",
      "Real-world applications of AI are as diverse as they are transformative. AI-driven diagnostic tools are a game-changer in oncology, integrating data from radiology, pathology, and electronic health records (EHR) to provide comprehensive patient analyses. Wearable devices harness AI to monitor patients continuously, offering a new era of preventive medicine through real-time health tracking. In the operating room, robotics aid in surgeries from minimally invasive interventions to complex cardiac procedures, while AI's predictive analytics play a pivotal role in patient management and personalized treatment plans.\n",
      "\n",
      "## Addressing Challenges: Ethics, Privacy, and Regulation\n",
      "While the advancements are impressive, they don't come without challenges. Privacy and security concerns over sensitive health data are escalating, and the industry must ensure robust protective measures. Ethical considerations also take center stage as AI begins to shoulder more responsibilities in decision-making processes. It's imperative that there's a balance between AI autonomy and human oversight, and that regulations are established to govern AI's application in healthcare, ensuring transparency, fairness, and accountability.\n",
      "\n",
      "## Looking Ahead: Collaborative Futures in AI Healthcare\n",
      "As we chart the course of AI in healthcare, it's essential to maintain a collaborative ethos among developers, healthcare professionals, and regulatory agencies. The goal is to maximize AI's potential while safeguarding patient interests and upholding ethical standards. By doing so, we can look forward to a future where AI not only augments healthcare but revolutionizes patient outcomes, making the integration of technology and healthcare synonymous with progress and patient-centric care.\n",
      "```\n"
     ]
    }
   ],
   "source": [
    "print(result)"
   ]
  },
  {
   "cell_type": "code",
   "execution_count": 10,
   "id": "8b7de96a-cdc8-46ca-b0a9-7886f989dde0",
   "metadata": {},
   "outputs": [
    {
     "name": "stdout",
     "output_type": "stream",
     "text": [
      "```markdown\n",
      "# AI: The New Power Tool in Software Development\n",
      "\n",
      "In the bustling world of software development, 2023 has been a pivotal year of transformation, with machine learning and data science becoming core pillars of innovation. According to recent industry reports, there's a surge in roles tailored to ML, signaling a shift towards intelligent automation and informed decision-making. The integration of AI is not just a trend; it's a revolutionary approach that refines how we build the future of technology. Imagine developers, equipped with predictive analytics, crafting applications that not only meet user needs but anticipate them.\n",
      "\n",
      "The modern developer's toolkit is brimming with AI-driven marvels. Tools like GitHub Copilot, powered by OpenAI's Codex, and debugging wizards like Stepsize are redefining the craft of coding. They automate the mundane, offer intelligent code suggestions, and free up the creative mind to tackle the grand challenges of software engineering. AI-infused code editors such as Tabnine and IntelliJ IDEA have become the silent partners in the dance of development, enhancing productivity and sparking innovation in every keystroke.\n",
      "\n",
      "Yet, with great power comes great responsibility. The embrace of AI in software development opens a Pandora's box of challenges and ethical questions. Will AI eclipse the need for developers, or will it be the catalyst for new kinds of jobs? How do we ensure AI augments our capabilities without compromising our values? These are the questions that the industry must address with care. As we sail into this brave new world, it's crucial that AI remains the sidekick, not the hero, of our stories—that it strengthens, not replaces, human expertise, and that it adheres to the highest ethical standards.\n",
      "\n",
      "As we look to the horizon, the synthesis of AI and software development promises a landscape ripe with opportunity. From revolutionizing user experiences to automating the tedious, AI is the wind in the sails of innovation. With thoughtful integration and a commitment to ethical practices, the symbiosis of AI and human creativity will continue to propel the software industry forward, into a future where the potential is as limitless as our imagination.\n",
      "```\n"
     ]
    }
   ],
   "source": [
    "print(result)"
   ]
  },
  {
   "cell_type": "code",
   "execution_count": null,
   "id": "dd46080c-a7b6-41fb-b900-fe94749333c2",
   "metadata": {},
   "outputs": [],
   "source": []
  },
  {
   "cell_type": "code",
   "execution_count": null,
   "id": "6b602156-6ba1-428a-b12f-af320da28be2",
   "metadata": {},
   "outputs": [],
   "source": []
  },
  {
   "cell_type": "code",
   "execution_count": null,
   "id": "53ffb3ed-d6f0-42cd-8291-dc0f437feeff",
   "metadata": {},
   "outputs": [],
   "source": []
  },
  {
   "cell_type": "markdown",
   "id": "be364db9-2e72-4544-91d9-be8f042a965c",
   "metadata": {
    "jp-MarkdownHeadingCollapsed": true
   },
   "source": [
    "# 3. Blog post writer: Planner, Writer, Editor\n",
    "\n",
    "Blog post writer Multi-Agent System using Crewai and Ollama\n",
    "\n",
    "Source: https://medium.com/the-ai-forum/create-a-blog-writer-multi-agent-system-using-crewai-and-ollama-f47654a5e1cd"
   ]
  },
  {
   "cell_type": "code",
   "execution_count": 12,
   "id": "ffc3830a-1914-499f-b37b-6b3ac7f69efc",
   "metadata": {},
   "outputs": [],
   "source": [
    "from crewai import Agent, Task, Crew\n",
    "from langchain_openai import ChatOpenAI\n",
    "import os\n",
    "\n",
    "llm = ChatOpenAI(\n",
    "    model = \"crewai-llama3\",\n",
    "    base_url = \"http://localhost:11434/v1\")"
   ]
  },
  {
   "cell_type": "code",
   "execution_count": 13,
   "id": "0f025d82-e6c7-448d-a783-1823fba2b98d",
   "metadata": {},
   "outputs": [],
   "source": [
    "planner = Agent(\n",
    "    role=\"Content Planner\",\n",
    "    goal=\"Plan engaging and factually accurate content on {topic}\",\n",
    "    backstory=\"You're working on planning a blog article \"\n",
    "              \"about the topic: {topic} in 'https://medium.com/'.\"\n",
    "              \"You collect information that helps the \"\n",
    "              \"audience learn something \"\n",
    "              \"and make informed decisions. \"\n",
    "              \"You have to prepare a detailed \"\n",
    "              \"outline and the relevant topics and sub-topics that has to be a part of the\"\n",
    "              \"blogpost.\"\n",
    "              \"Your work is the basis for \"\n",
    "              \"the Content Writer to write an article on this topic.\",\n",
    "    #llm=llm,\n",
    "    allow_delegation=False,\n",
    " verbose=True\n",
    ")\n",
    "writer = Agent(\n",
    "    role=\"Content Writer\",\n",
    "    goal=\"Write insightful and factually accurate \"\n",
    "         \"opinion piece about the topic: {topic}\",\n",
    "    backstory=\"You're working on a writing \"\n",
    "              \"a new opinion piece about the topic: {topic} in 'https://medium.com/'. \"\n",
    "              \"You base your writing on the work of \"\n",
    "              \"the Content Planner, who provides an outline \"\n",
    "              \"and relevant context about the topic. \"\n",
    "              \"You follow the main objectives and \"\n",
    "              \"direction of the outline, \"\n",
    "              \"as provide by the Content Planner. \"\n",
    "              \"You also provide objective and impartial insights \"\n",
    "              \"and back them up with information \"\n",
    "              \"provide by the Content Planner. \"\n",
    "              \"You acknowledge in your opinion piece \"\n",
    "              \"when your statements are opinions \"\n",
    "              \"as opposed to objective statements.\",\n",
    "    allow_delegation=False,\n",
    "    #llm=llm,\n",
    "    verbose=True\n",
    ")\n",
    "editor = Agent(\n",
    "    role=\"Editor\",\n",
    "    goal=\"Edit a given blog post to align with \"\n",
    "         \"the writing style of the organization 'https://medium.com/'. \",\n",
    "    backstory=\"You are an editor who receives a blog post \"\n",
    "              \"from the Content Writer. \"\n",
    "              \"Your goal is to review the blog post \"\n",
    "              \"to ensure that it follows journalistic best practices,\"\n",
    "              \"provides balanced viewpoints \"\n",
    "              \"when providing opinions or assertions, \"\n",
    "              \"and also avoids major controversial topics \"\n",
    "              \"or opinions when possible.\",\n",
    "    #llm=llm,\n",
    "    allow_delegation=False,\n",
    "    verbose=True\n",
    ")"
   ]
  },
  {
   "cell_type": "code",
   "execution_count": 14,
   "id": "9970a101-15c0-40c5-91a9-157447530f09",
   "metadata": {},
   "outputs": [],
   "source": [
    "plan = Task(\n",
    "    description=(\n",
    "        \"1. Prioritize the latest trends, key players, \"\n",
    "            \"and noteworthy news on {topic}.\\n\"\n",
    "        \"2. Identify the target audience, considering \"\n",
    "            \"their interests and pain points.\\n\"\n",
    "        \"3. Develop a detailed content outline including \"\n",
    "            \"an introduction, key points, and a call to action.\\n\"\n",
    "        \"4. Include SEO keywords and relevant data or sources.\"\n",
    "    ),\n",
    "    expected_output=\"A comprehensive content plan document \"\n",
    "        \"with an outline, audience analysis, \"\n",
    "        \"SEO keywords, and resources.\",\n",
    "    agent=planner,\n",
    ")\n",
    "write = Task(\n",
    "    description=(\n",
    "        \"1. Use the content plan to craft a compelling \"\n",
    "            \"blog post on {topic}.\\n\"\n",
    "        \"2. Incorporate SEO keywords naturally.\\n\"\n",
    "  \"3. Sections/Subtitles are properly named \"\n",
    "            \"in an engaging manner.\\n\"\n",
    "        \"4. Ensure the post is structured with an \"\n",
    "            \"engaging introduction, insightful body, \"\n",
    "            \"and a summarizing conclusion.\\n\"\n",
    "        \"5. Proofread for grammatical errors and \"\n",
    "            \"alignment with the brand's voice.\\n\"\n",
    "    ),\n",
    "    expected_output=\"A well-written blog post \"\n",
    "        \"in markdown format, ready for publication, \"\n",
    "        \"each section should have 2 or 3 paragraphs.\",\n",
    "    agent=writer,\n",
    ")\n",
    "edit = Task(\n",
    "    description=(\"Proofread the given blog post for \"\n",
    "                 \"grammatical errors and \"\n",
    "                 \"alignment with the brand's voice.\"),\n",
    "    expected_output=\"A well-written blog post in markdown format, \"\n",
    "                    \"ready for publication, \"\n",
    "                    \"each section should have 2 or 3 paragraphs.\",\n",
    "    agent=editor\n",
    ")"
   ]
  },
  {
   "cell_type": "code",
   "execution_count": null,
   "id": "78ff296e-2430-483f-ae36-d1e949acc086",
   "metadata": {},
   "outputs": [],
   "source": [
    "crew = Crew(\n",
    "    agents=[planner, writer, editor],\n",
    "    tasks=[plan, write, edit],\n",
    "    verbose=2\n",
    ")\n",
    "inputs = {\"topic\":\"Comparative study of LangGraph, Autogen and Crewai for building multi-agent system.\"}\n",
    "result = crew.kickoff(inputs=inputs)"
   ]
  },
  {
   "cell_type": "code",
   "execution_count": 19,
   "id": "748d88df-8bf1-4713-ac77-5e300af4cd39",
   "metadata": {},
   "outputs": [
    {
     "data": {
      "text/markdown": [
       "```markdown\n",
       "# A Comparative Analysis of MAS Frameworks: LangGraph, Autogen, and Crewai\n",
       "\n",
       "## Exploring Multi-Agent Systems in AI Development\n",
       "\n",
       "Multi-agent systems (MAS) stand at the forefront of artificial intelligence, driving the creation of sophisticated, intelligent, and collaborative AI solutions. This technology enables multiple autonomous entities to interact, learn, and make decisions collectively, facilitating progress in various fields such as robotics and urban planning. This article presents a detailed comparison of three notable MAS frameworks: LangGraph, Autogen, and Crewai, providing valuable perspectives for software developers, AI researchers, and project managers involved in AI-centric initiatives.\n",
       "\n",
       "## Deciphering the MAS Frameworks Terrain\n",
       "\n",
       "Imagine an orchestra where each musician—the agent—plays a part in the harmony of the collective symphony—the system. Originating from the realm of distributed AI, MAS frameworks have expanded their capabilities to tackle intricate, real-world challenges through the synergy of collaborating agents. The question is, how can one choose the most suitable framework for their project's needs?\n",
       "\n",
       "## LangGraph: The Architect of Structure\n",
       "\n",
       "LangGraph stands out in the MAS domain with its penchant for structured environments, where it thrives by interpreting complex relationship dynamics and data models. It is particularly effective in powering systems such as recommendation engines and intricate social network analytics.\n",
       "\n",
       "**Strengths:**\n",
       "- Mastery in explicit relationship modeling.\n",
       "- Proficient in managing structured data sets.\n",
       "\n",
       "**Drawbacks:**\n",
       "- Limited effectiveness in unstructured environments.\n",
       "\n",
       "**Community Presence and Resources:**\n",
       "- An expanding user base with a penchant for structured solutions.\n",
       "- Thorough documentation catering to a range of established use cases.\n",
       "\n",
       "## Autogen: The Dynamic Trailblazer\n",
       "\n",
       "Autogen is lauded for its flexible and adaptive nature, positioning it as the framework of choice for sectors characterized by volatility and unpredictability.\n",
       "\n",
       "**Strengths:**\n",
       "- Remarkable adaptability to ever-changing environments.\n",
       "- Enables spontaneous creation of agents as needed.\n",
       "\n",
       "**Drawbacks:**\n",
       "- Complexity may steepen the initial learning curve.\n",
       "\n",
       "**Community Engagement and Support:**\n",
       "- A dynamic forum fostering active user participation.\n",
       "- A wealth of educational materials facilitating user proficiency.\n",
       "\n",
       "## Crewai: The Cooperative Strategist\n",
       "\n",
       "Crewai sets itself apart through its specialized focus on collaborative endeavors, making it particularly adept for projects that demand intricate agent cooperation, such as the coordination of autonomous vehicles.\n",
       "\n",
       "**Advantages:**\n",
       "- Exceptional capabilities for agent teamwork.\n",
       "- Intuitive framework design for managing complex tasks.\n",
       "\n",
       "**Disadvantages:**\n",
       "- Higher resource demand for peak performance.\n",
       "\n",
       "**Resource Availability and Guidance:**\n",
       "- A dedicated support system that's easily accessible.\n",
       "- Comprehensive documentation tailored to collaborative ventures.\n",
       "\n",
       "## Comparative Features at a Glance\n",
       "\n",
       "When considering LangGraph, Autogen, and Crewai side by side, important aspects such as scalability, compatibility with existing infrastructures, and user-friendliness become critical decision factors.\n",
       "\n",
       "- LangGraph is the front-runner in structured data processing.\n",
       "- Autogen stands out for its swift adaptability to shifts in requirements.\n",
       "- Crewai excels at nurturing inter-agent cooperation.\n",
       "\n",
       "Insights from industry benchmarks and practical case studies shine a light on their effectiveness in scenarios like traffic optimization and economic forecasting.\n",
       "\n",
       "## Identifying Trends and Preparing for What's Next\n",
       "\n",
       "Staying updated with the latest market trends is imperative. Langraph, Autogen, and Crewai are continuously refined, with enhancements that mirror cutting-edge AI research. As MAS applications expand, so does the sophistication of these frameworks, signaling an era of more seamless and independent AI operations.\n",
       "\n",
       "## Selecting the Ideal MAS Framework for Your AI Project\n",
       "\n",
       "Choosing the right MAS framework is a crucial step that involves evaluating project dimensions, agent intricacy, and sustainability. Utilizing a comparison chart or decision matrix can be an invaluable strategy, providing a solid foundation for a well-informed choice.\n",
       "\n",
       "## Engage With the Community\n",
       "\n",
       "We invite you to share your personal experiences and knowledge gained from working with any of these MAS frameworks in the comments section. Join the ongoing dialogue with like-minded AI aficionados and experts. For further information and to join the wave of innovation, follow the links provided and engage with the broader community seeking smarter, interconnected AI solutions.\n",
       "\n",
       "## Final Thoughts\n",
       "\n",
       "In summation, LangGraph, Autogen, and Crewai each bring distinct advantages to the table, catering to various facets of multi-agent system development. The optimal framework for a given project will depend on the unique requirements at hand and the overarching goals of the AI system. As we witness the continuous evolution of MAS frameworks, staying informed and versatile is the key to unlocking their vast potential.\n",
       "\n",
       "The future of AI is one of collaboration, adaptability, and boundless possibilities—let the framework you select be a cornerstone in building that future.\n",
       "```"
      ],
      "text/plain": [
       "<IPython.core.display.Markdown object>"
      ]
     },
     "metadata": {},
     "output_type": "display_data"
    }
   ],
   "source": [
    "from IPython.display import Markdown,display\n",
    "display(Markdown(result))"
   ]
  },
  {
   "cell_type": "code",
   "execution_count": null,
   "id": "31fac199-47b6-4a74-8f08-db41fd8c9f63",
   "metadata": {},
   "outputs": [],
   "source": []
  },
  {
   "cell_type": "markdown",
   "id": "aedb39d1-2da8-4f91-94ed-4a7046c8197f",
   "metadata": {
    "jp-MarkdownHeadingCollapsed": true
   },
   "source": [
    "# 4. Poem Writer: Manager, Researcher, Writer\n",
    "\n",
    "Source: https://medium.com/thedeephub/crafting-custom-love-poems-with-crewai-agents-5ee3051b4414"
   ]
  },
  {
   "cell_type": "code",
   "execution_count": 7,
   "id": "b087a8e0-1e60-4dfd-a84c-88653dfcaa48",
   "metadata": {},
   "outputs": [],
   "source": [
    "from crewai import Agent, Task, Crew, Process\n",
    "from langchain_community.tools import DuckDuckGoSearchRun\n",
    "from langchain.agents import load_tools\n",
    "from langchain.tools import tool\n",
    "from crewai.tasks.task_output import TaskOutput\n",
    "from langchain_openai import ChatOpenAI"
   ]
  },
  {
   "cell_type": "code",
   "execution_count": 10,
   "id": "b3487b39-0cbd-401f-81be-1b4f39e0754a",
   "metadata": {},
   "outputs": [],
   "source": [
    "# Define the topic \n",
    "# In this case, since we want a poem for our loved one, the topic should be things that they like and that you want to include in the poem\n",
    "topic = \"Taylor Swift and long walks on the beach at sunset\""
   ]
  },
  {
   "cell_type": "code",
   "execution_count": 11,
   "id": "545f6ab2-a60a-42d8-9400-5ed8e01a3e28",
   "metadata": {},
   "outputs": [],
   "source": [
    "# Define the search tool \n",
    "search_tool = DuckDuckGoSearchRun()\n",
    "\n",
    "# Function that is run after the task is completed\n",
    "def callback_function(output: TaskOutput):\n",
    "    ## What to do after the task is completed (i.e. send an sms with a love poem)\n",
    "    print(f\"\"\"\n",
    "        Task completed with the following output:\n",
    "        Task: {output.description}\n",
    "        Output: {output.result}\n",
    "    \"\"\")\n",
    "\n",
    "# Custom tool - read webpage\n",
    "class ContentTools:\n",
    "    @tool(\"Read webpage content\")\n",
    "    def read_content(url: str) -> str:\n",
    "        \"\"\"Read the content of a webpage\"\"\"\n",
    "        response = requests.get(url)\n",
    "        soup = BeautifulSoup(response.text, 'html.parser')\n",
    "        text_content = soup.get_text()\n",
    "        return text_content[:5000]"
   ]
  },
  {
   "cell_type": "code",
   "execution_count": 12,
   "id": "0d55330e-4927-49ec-be46-e290edec3ce4",
   "metadata": {},
   "outputs": [],
   "source": [
    "# First agent: the love poem manager\n",
    "manager = Agent(\n",
    "    role = \"Love Poem Manager\",\n",
    "    goal = \"Manage the process of creating a love poem for the partner of the client\",\n",
    "    verbose = True,\n",
    "    backstory = \"With a mind for romance, I want to deliver the best custom love poem to my client to give to their partner for Valentines Day\",\n",
    "    allow_delegation = True,\n",
    "    max_iter = 10,\n",
    "    max_rpm = 20,\n",
    ")\n",
    "# Second agent: the love poem searcher\n",
    "researcher = Agent(\n",
    "    role = \"Love Poem Searcher\",\n",
    "    goal = f\"Find a love poem for my partner, who really likes {topic}\",\n",
    "    verbose = True,\n",
    "    backstory = \"\"\"You are a curious love poem searcher, and you want to \n",
    "    find the best and most custom love poem for your client to give to their partner, \n",
    "    therefore you need some details about the things that the partner really likes! You will search for these details.\"\"\",\n",
    ")\n",
    "# Third agent: the love poem writer\n",
    "writer = Agent(\n",
    "    role = \"Love Poem Writer\",\n",
    "    goal = f\"Write a love poem for my partner, who really likes {topic}\",\n",
    "    verbose = True,\n",
    "    backstory = \"\"\"You are a creative love poem writer, and you want to \n",
    "    write the best and most custom love poem for your client to give to their partner. \n",
    "    With a mind for romance and a deep love for poetry, you find the perfect poetry style \n",
    "    for your client and create a wonderful poem that conveys love, respect, kindness, and admiration\"\"\",\n",
    ")"
   ]
  },
  {
   "cell_type": "code",
   "execution_count": 13,
   "id": "af918bad-f54b-4a96-9b8d-6a6a44dbc5bd",
   "metadata": {},
   "outputs": [],
   "source": [
    "# Task 1: List ideas for a love poem\n",
    "list_ideas = Task(\n",
    "    description = \"List of 5 cute ideas for a love poem, including possible poetry styles\",\n",
    "    expected_output = \"Bullet point of 5 cute ideas for a love poem\",\n",
    "    tools=[search_tool, ContentTools().read_content],\n",
    "    agent = researcher,\n",
    "    async_execution=True,\n",
    ")\n",
    "\n",
    "# Task 2: List important facts related to topic\n",
    "list_facts = Task(\n",
    "    description = f\"List of 5 important facts specifically for someone that likes {topic}\",\n",
    "    expected_output = \"Bullet point of 5 important facts related to the given topic for a love poem\",\n",
    "    tools=[search_tool, ContentTools().read_content],\n",
    "    agent = researcher,\n",
    "    async_execution=True,\n",
    ")\n",
    "\n",
    "# Task 3: Write the love poem\n",
    "write_poem = Task(\n",
    "    description = f\"Write a poem that would make Romeo and Juliet blush. The poem should be custom and tailored to the client's partner, who really likes {topic}\",\n",
    "    expected_output = \"A lovely poem in a style that the client would like\",\n",
    "    tools=[search_tool],\n",
    "    agent = writer,\n",
    "    context=[list_ideas, list_facts],\n",
    "    callback=callback_function,\n",
    ")\n",
    "\n",
    "# Task 4: Coordinate the love poem\n",
    "manager_task = Task(\n",
    "    description=f\"\"\"Oversee the creation of a great love poem for the client, \n",
    "    a lovebird who's looking for a custom poem for their partner, who really likes {topic}. \n",
    "    Ensure that the poem is custom and tailored to the client's partner and in a style that \n",
    "    is appropriate and conveys love, respect, kindness, and admiration\"\"\",\n",
    "    expected_output=f\"A lovely poem in a style that the client would like that incoporates the ideas and facts related to the {topic}\",\n",
    "    agent=manager,\n",
    ")"
   ]
  },
  {
   "cell_type": "code",
   "execution_count": null,
   "id": "de8455da-3ec7-43fd-94ec-e20331df0835",
   "metadata": {},
   "outputs": [],
   "source": [
    "crew = Crew(\n",
    "    agents = [manager, researcher, writer],\n",
    "    tasks = [list_ideas, list_facts, write_poem, manager_task],\n",
    "    process = Process.hierarchical,\n",
    "    manager_llm=ChatOpenAI(temperature=0, model=\"gpt-4\"),\n",
    ")\n",
    "result = crew.kickoff()"
   ]
  },
  {
   "cell_type": "code",
   "execution_count": 15,
   "id": "e8413ab1-cee5-4642-90c0-16e73a5c7965",
   "metadata": {},
   "outputs": [
    {
     "name": "stdout",
     "output_type": "stream",
     "text": [
      "'Sonnet to the Swift Sunset' (Shakespearean Sonnet/Free Verse)\n",
      "\n",
      "In the glow of the setting sun, our hands entwined,\n",
      "Upon the sandy shore, where the ocean's chorus is intertwined.\n",
      "The melody of your laughter, as enchanting as a Swift's song,\n",
      "Your eyes, a mirror of the sea, where my love for you is strong.\n",
      "\n",
      "Each footprint we leave, a testament of our story,\n",
      "Under the canvas of the sunset, painted with Swift's lyrical glory.\n",
      "Our hearts beat in rhythm, to the sea's lullaby, and Swift's harmonious tune,\n",
      "As we walk, your silhouette against the sky, under the crescent moon.\n",
      "\n",
      "Your love, like a Swift's ballad, a balm to my soul,\n",
      "In your arms, I found a haven, making me whole.\n",
      "With each shared sunset, like a Swift's love story, ours unfolds,\n",
      "In tender verses and choruses, as our love, like the night, takes hold.\n",
      "\n",
      "So here's to us, to our love, as constant as the tide,\n",
      "In every sunset we share, in every stride.\n",
      "Let our story be sung, like a Taylor Swift melody,\n",
      "An anthem of our love, echoing into eternity.\n"
     ]
    }
   ],
   "source": [
    "print(result)"
   ]
  },
  {
   "cell_type": "code",
   "execution_count": null,
   "id": "bb46a7dd-6789-4772-b6e4-1d2c9a75c853",
   "metadata": {},
   "outputs": [],
   "source": []
  },
  {
   "cell_type": "code",
   "execution_count": null,
   "id": "5c65890e-8405-4354-a3d1-3a836c0b1950",
   "metadata": {},
   "outputs": [],
   "source": []
  },
  {
   "cell_type": "code",
   "execution_count": null,
   "id": "8b12c589-1a87-4e47-bbf2-d57e7aaba39c",
   "metadata": {},
   "outputs": [],
   "source": []
  },
  {
   "cell_type": "code",
   "execution_count": null,
   "id": "99c9fe30-33ac-4587-9376-db7449e1988d",
   "metadata": {},
   "outputs": [],
   "source": []
  },
  {
   "cell_type": "code",
   "execution_count": null,
   "id": "f870e027-2270-46ba-b241-619c9e2c1d23",
   "metadata": {},
   "outputs": [],
   "source": []
  },
  {
   "cell_type": "code",
   "execution_count": null,
   "id": "bad380c2-fbb8-4156-911f-fcf1834d6dde",
   "metadata": {},
   "outputs": [],
   "source": []
  },
  {
   "cell_type": "code",
   "execution_count": null,
   "id": "c8c59910-0d63-4987-bc27-473360deacec",
   "metadata": {},
   "outputs": [],
   "source": []
  }
 ],
 "metadata": {
  "kernelspec": {
   "display_name": "Python 3 (ipykernel)",
   "language": "python",
   "name": "python3"
  },
  "language_info": {
   "codemirror_mode": {
    "name": "ipython",
    "version": 3
   },
   "file_extension": ".py",
   "mimetype": "text/x-python",
   "name": "python",
   "nbconvert_exporter": "python",
   "pygments_lexer": "ipython3",
   "version": "3.12.3"
  }
 },
 "nbformat": 4,
 "nbformat_minor": 5
}
