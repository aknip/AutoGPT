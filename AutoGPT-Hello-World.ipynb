{
  "nbformat": 4,
  "nbformat_minor": 0,
  "metadata": {
    "colab": {
      "provenance": [],
      "authorship_tag": "ABX9TyM1PsQ65sSOIf9CvUFMpXOD",
      "include_colab_link": true
    },
    "kernelspec": {
      "name": "python3",
      "display_name": "Python 3"
    },
    "language_info": {
      "name": "python"
    }
  },
  "cells": [
    {
      "cell_type": "markdown",
      "metadata": {
        "id": "view-in-github",
        "colab_type": "text"
      },
      "source": [
        "<a href=\"https://colab.research.google.com/github/aknip/AutoGPT/blob/main/AutoGPT-Hello-World.ipynb\" target=\"_parent\"><img src=\"https://colab.research.google.com/assets/colab-badge.svg\" alt=\"Open In Colab\"/></a>"
      ]
    },
    {
      "cell_type": "markdown",
      "source": [
        "# Hello Word with AutoGPT\n",
        "\n",
        "A pure installation and start of \"run.sh\"\n",
        "\n",
        "Based on\n",
        "- https://docs.agpt.co/setup/#set-up-with-git\n",
        "- https://www.youtube.com/watch?v=MUtYHr4X3Wg"
      ],
      "metadata": {
        "id": "nFY99RYnD5mv"
      }
    },
    {
      "cell_type": "code",
      "source": [
        "# Install agent-protocol\n",
        "# This a fix needed due to an installation bug in AutoGPT\n",
        "!git clone  https://github.com/AI-Engineers-Foundation/agent-protocol\n",
        "%cd /content/agent-protocol/sdk/python\n",
        "!pip install ."
      ],
      "metadata": {
        "id": "xmDgFWyqF1mR"
      },
      "execution_count": null,
      "outputs": []
    },
    {
      "cell_type": "code",
      "execution_count": null,
      "metadata": {
        "id": "F8kMSQHb5JRk"
      },
      "outputs": [],
      "source": [
        "# Install AutoGPT\n",
        "%cd /content\n",
        "!git clone -b stable https://github.com/Significant-Gravitas/Auto-GPT\n",
        "%cd /content/Auto-GPT\n",
        "!pip install -r requirements.txt\n",
        "!chmod +x run.sh"
      ]
    },
    {
      "cell_type": "code",
      "source": [
        "# Now download .env.template file from: https://github.com/Significant-Gravitas/Auto-GPT/blob/master/autogpts/autogpt/.env.template\n",
        "# rename the filename to .env\n",
        "# Add OpenAI key in file\n",
        "# Copy it to Auto-GPT folder"
      ],
      "metadata": {
        "id": "zqw9s3m_JUkH"
      },
      "execution_count": null,
      "outputs": []
    },
    {
      "cell_type": "markdown",
      "source": [
        "Now we can start using Auto-GPT.\n",
        "\n",
        "Here is an example prompt for copy&paste usage:\n",
        "- Write a text about code ownership in enterprise software engineering."
      ],
      "metadata": {
        "id": "GJyrkeKsHJ4H"
      }
    },
    {
      "cell_type": "code",
      "source": [
        "# variant 1: run pyhton script\n",
        "%cd /content/Auto-GPT\n",
        "!python -m autogpt"
      ],
      "metadata": {
        "id": "h7bZr7lhNKvc"
      },
      "execution_count": null,
      "outputs": []
    },
    {
      "cell_type": "code",
      "source": [
        "# variant 2: run bash script\n",
        "%cd /content/Auto-GPT\n",
        "!./run.sh"
      ],
      "metadata": {
        "id": "-8qRAFWHEMOv"
      },
      "execution_count": null,
      "outputs": []
    }
  ]
}