{
  "nbformat": 4,
  "nbformat_minor": 0,
  "metadata": {
    "colab": {
      "provenance": [],
      "authorship_tag": "ABX9TyNn3Gfh0mlR/aG7u+Ky283q",
      "include_colab_link": true
    },
    "kernelspec": {
      "name": "python3",
      "display_name": "Python 3"
    },
    "language_info": {
      "name": "python"
    }
  },
  "cells": [
    {
      "cell_type": "markdown",
      "metadata": {
        "id": "view-in-github",
        "colab_type": "text"
      },
      "source": [
        "<a href=\"https://colab.research.google.com/github/aknip/AutoGPT/blob/main/AutoGPT-Hello-World.ipynb\" target=\"_parent\"><img src=\"https://colab.research.google.com/assets/colab-badge.svg\" alt=\"Open In Colab\"/></a>"
      ]
    },
    {
      "cell_type": "markdown",
      "source": [
        "Memo: !pip install -r requirements.txt"
      ],
      "metadata": {
        "id": "nFY99RYnD5mv"
      }
    },
    {
      "cell_type": "code",
      "source": [
        "!git clone  https://github.com/AI-Engineers-Foundation/agent-protocol"
      ],
      "metadata": {
        "id": "xmDgFWyqF1mR"
      },
      "execution_count": null,
      "outputs": []
    },
    {
      "cell_type": "code",
      "source": [
        "%cd /content/agent-protocol/sdk/python"
      ],
      "metadata": {
        "colab": {
          "base_uri": "https://localhost:8080/"
        },
        "id": "qrXsU-BNGKjA",
        "outputId": "37ba1986-e3ff-4b28-f114-b9a286f85444"
      },
      "execution_count": 21,
      "outputs": [
        {
          "output_type": "stream",
          "name": "stdout",
          "text": [
            "/content/agent-protocol/sdk/python\n"
          ]
        }
      ]
    },
    {
      "cell_type": "code",
      "source": [
        "!pip install ."
      ],
      "metadata": {
        "id": "-UWs8QrLGVox"
      },
      "execution_count": null,
      "outputs": []
    },
    {
      "cell_type": "code",
      "execution_count": null,
      "metadata": {
        "id": "F8kMSQHb5JRk"
      },
      "outputs": [],
      "source": [
        "!git clone -b stable https://github.com/Significant-Gravitas/Auto-GPT"
      ]
    },
    {
      "cell_type": "code",
      "source": [
        "%cd /content/Auto-GPT"
      ],
      "metadata": {
        "id": "1Jw8duXM5zLJ",
        "colab": {
          "base_uri": "https://localhost:8080/"
        },
        "outputId": "23abdf9d-55af-4b28-9560-638881bf7f44"
      },
      "execution_count": 2,
      "outputs": [
        {
          "output_type": "stream",
          "name": "stdout",
          "text": [
            "/content/Auto-GPT\n"
          ]
        }
      ]
    },
    {
      "cell_type": "code",
      "source": [
        "!pip install -r requirements.txt"
      ],
      "metadata": {
        "id": "URYK6v9pE4nR"
      },
      "execution_count": null,
      "outputs": []
    },
    {
      "cell_type": "code",
      "source": [
        "!chmod +x run.sh"
      ],
      "metadata": {
        "id": "T5hSZEb658Po"
      },
      "execution_count": 3,
      "outputs": []
    },
    {
      "cell_type": "markdown",
      "source": [
        "Write a text about code ownership in enterprise software engineering."
      ],
      "metadata": {
        "id": "GJyrkeKsHJ4H"
      }
    },
    {
      "cell_type": "code",
      "source": [
        "!./run.sh"
      ],
      "metadata": {
        "colab": {
          "base_uri": "https://localhost:8080/"
        },
        "id": "-8qRAFWHEMOv",
        "outputId": "92c4688f-e773-4ee1-dd75-46bc799a1eca"
      },
      "execution_count": null,
      "outputs": [
        {
          "output_type": "stream",
          "name": "stdout",
          "text": [
            "All packages are installed.\n",
            "2023-09-17 12:27:18.227304: I tensorflow/core/platform/cpu_feature_guard.cc:182] This TensorFlow binary is optimized to use available CPU instructions in performance-critical operations.\n",
            "To enable the following instructions: AVX2 FMA, in other operations, rebuild TensorFlow with the appropriate compiler flags.\n",
            "2023-09-17 12:27:19.289774: W tensorflow/compiler/tf2tensorrt/utils/py_utils.cc:38] TF-TRT Warning: Could not find TensorRT\n",
            " \u001b[0m plugins_config.yaml does not exist, creating base config.\n",
            "\u001b[33mWARNING: \u001b[0m You do not have access to gpt-4-0314. Setting smart_llm to gpt-3.5-turbo.\n",
            "\u001b[32mNEWS: \u001b[0m \u001b[33mWelcome to Auto-GPT!\u001b[0m\n",
            "\u001b[32mNEWS: \u001b[0m \u001b[0m\n",
            "\u001b[32mNEWS: \u001b[0m \u001b[0m\n",
            "\u001b[32mWelcome to Auto-GPT! \u001b[0m run with '--help' for more information.\n",
            "\u001b[32mCreate an AI-Assistant: \u001b[0m input '--manual' to enter manual mode.\n",
            " \u001b[0m Asking user via keyboard...\n",
            "\u001b[6n\u001b[?2004h\u001b[?1l\u001b[?25l\u001b[0m\u001b[?7l\u001b[0m\u001b[J\u001b[0;94mI want Auto-GPT to\u001b[0m:\u001b[19D\u001b[20C\u001b[?7h\u001b[0m\u001b[?12l\u001b[?25h\u001b[20D\u001b[J\u001b[0m\u001b[?7h\u001b[?2004lWARNING: your terminal doesn't support cursor position requests (CPR).\n",
            "\u001b[79Cg\u001b[0m\n",
            "\u001b[79Cg\u001b[0m\n",
            "\u001b[0mineering.\u001b[9D\u001b[0m\n",
            "\u001b[J\u001b[?7h\u001b[0m\u001b[?12l\u001b[?25h\u001b[?2004l\u001b[33mNOTE:All files/directories created by this agent can be found inside its workspace at: \u001b[0m /content/Auto-GPT/auto_gpt_workspace\n",
            "\u001b[94mCodeOwnershipGPT \u001b[0m has been created with the following details:\n",
            "\u001b[32mName: \u001b[0m CodeOwnershipGPT\n",
            "\u001b[32mRole: \u001b[0m an AI expert in enterprise software engineering that provides insights and guidance on code ownership practices to optimize collaboration and productivity within development teams.\n",
            "\u001b[32mGoals: \u001b[0m\n",
            "\u001b[32m- \u001b[0m Offer a comprehensive understanding of code ownership in enterprise software engineering, including its benefits, challenges, and best practices.\n",
            "\u001b[32m- \u001b[0m Provide practical advice on establishing clear ownership boundaries, promoting accountability, and fostering a collaborative culture among developers.\n",
            "\u001b[32m- \u001b[0m Identify potential risks and pitfalls related to code ownership and suggest strategies to mitigate them effectively.\n",
            "\u001b[32m- \u001b[0m Assist in developing guidelines and processes for code reviews, version control, and knowledge sharing to ensure smooth transitions and minimize disruptions in ownership.\n",
            "\u001b[32m- \u001b[0m Stay up-to-date with industry trends and emerging practices in code ownership to provide the most relevant and cutting-edge insights to support your enterprise software engineering efforts.\n",
            " \u001b[0m Could not load MemoryItems from file: input length is 0: line 1 column 1 (char 0)\n",
            "\u001b[32mUsing memory of type: \u001b[0m JSONFileMemory\n",
            "\u001b[32mUsing Browser: \u001b[0m chrome\n",
            "\u001b[33mCODEOWNERSHIPGPT THOUGHTS: \u001b[0m To provide a comprehensive understanding of code ownership in enterprise software engineering, I should gather information from reliable sources and summarize the key points. This will help me offer practical advice and identify potential risks and pitfalls. Additionally, staying up-to-date with industry trends will ensure that I provide the most relevant insights. To accomplish these goals, I can use the 'web_search' command to search for information on code ownership in enterprise software engineering.\n",
            "\u001b[33mREASONING: \u001b[0m By searching the web, I can access a wide range of resources and gather information from multiple perspectives. This will help me provide a comprehensive understanding of code ownership in enterprise software engineering.\n",
            "\u001b[33mPLAN: \u001b[0m\n",
            "\u001b[32m- \u001b[0m 1. Use the 'web_search' command to search for information on code ownership in enterprise software engineering.\n",
            "\u001b[32m- \u001b[0m 2. Analyze the search results and gather relevant information.\n",
            "\u001b[32m- \u001b[0m 3. Summarize the key points and provide practical advice, identify potential risks and pitfalls, and offer insights on industry trends.\n",
            "\u001b[33mCRITICISM: \u001b[0m I need to ensure that the information I gather is from reliable sources and that I critically evaluate the information to provide accurate and valuable insights.\n",
            "\u001b[33mSPEAK: \u001b[0m To provide a comprehensive understanding of code ownership in enterprise software engineering, I will search the web for information on code ownership. This will help me offer practical advice, identify potential risks, and stay up-to-date with industry trends.\n",
            "\u001b[0m\n",
            "\u001b[36mNEXT ACTION: \u001b[0m COMMAND = \u001b[36mweb_search\u001b[0m ARGUMENTS = \u001b[36m{'query': 'code ownership in enterprise software engineering'}\u001b[0m\n",
            " \u001b[0m Enter 'y' to authorise command, 'y -N' to run N continuous commands, 'n' to exit program, or enter feedback for CodeOwnershipGPT...\n",
            " \u001b[0m Asking user via keyboard...\n",
            "\u001b[?2004h\u001b[?25l\u001b[0m\u001b[?7l\u001b[0m\u001b[J\u001b[0;35mInput:\u001b[6D\u001b[6C\u001b[?7h\u001b[0m\u001b[?12l\u001b[?25h\u001b[?25l\u001b[?7l\u001b[6D\u001b[0m\u001b[J\u001b[0;35mInput:\u001b[0my\u001b[7D\u001b[0m\n",
            "\u001b[J\u001b[?7h\u001b[0m\u001b[?12l\u001b[?25h\u001b[?2004l\u001b[35m-=-=-=-=-=-=-= COMMAND AUTHORISED BY USER -=-=-=-=-=-=-= \u001b[0m\n",
            "\u001b[33mSYSTEM: \u001b[0m Command web_search returned: [ { \"title\": \"Code Ownership Is Key to Accelerate Debugging - DevOps.com\", \"href\": \"https://devops.com/code-ownership-is-key-to-accelerate-debugging/\", \"body\": \"For end users, code ownership means that malfunctioning apps will be fixed faster, improving the customer experience and boosting business metrics. From an internal POV, engineering teams become far more cost- and time-efficient, freeing developers to take on new projects they actually enjoy working on.\" }, { \"title\": \"What Is Code Ownership? | EchoLayer\", \"href\": \"https://echolayer.com/learn/what-is-code-ownership\", \"body\": \"TL;DR - Code ownership is a model used by teams of all sizes to ensure code quality is high, critical areas of code are protected, and power many automations; including requesting pull request reviewers from code owners.There are two fundamental approaches to code ownership; individual (1 or more engineers per file / directory) and collective (team(s) per file / directory).\" }, { \"title\": \"Scaling Collective Code Ownership with Code Reviews - LinkedIn\", \"href\": \"https://engineering.linkedin.com/blog/2018/06/scaling-collective-code-ownership-with-code-reviews\", \"body\": \"Examining the Effects of Ownership on Software Quality \\\" and \\\" Code Ownership and Software Quality: A Replication Study ,\\\" we know that code which doesn't have a clear owner,...\" }, { \"title\": \"CodeOwnership - Martin Fowler\", \"href\": \"https://www.martinfowler.com/bliki/CodeOwnership.html\", \"body\": \"Strong code ownership breaks a code base up into modules (classes, functions, files) and assigns each module to one developer. Developers are only allowed to make changes to modules they own. If they need a change made to someone else's module they need to talk to the module owner and get them to make the change.\" }, { \"title\": \"team - Is individual code ownership important? - Software Engineering ...\", \"href\": \"https://softwareengineering.stackexchange.com/questions/33460/is-individual-code-ownership-important\", \"body\": \"Ultimately, the team owns the code. But for all of the reasons you mentioned, our software team has designated individual authors for specific portions of the code. Each author has primary responsibility for their portion of the code, and secondary responsibility for the code base as a whole.\" }, { \"title\": \"Code Ownership: Empowering Engineering Teams to Fix the Bugs that ...\", \"href\": \"https://www.bugsnag.com/blog/code-ownership-empowering-engineering-teams-to-fix-the-bugs-that-matter-most/\", \"body\": \"June 3, 2022. / 9. min. Code Ownership: Empowering Engineering Teams to Fix the Bugs that Matter Most. Every day we use applications to engage and transact with customers, increase productivity at work, and even wind down at the end of the day - and we expect them to work flawlessly every time.\" }, { \"title\": \"Code Ownership: Keeping the balance between structure and agility\", \"href\": \"https://unblocked.engineering/blog/code-ownership/\", \"body\": \"Strong code ownership: Every module is owned by exactly one developer, who is the only person allowed to change this module. Weak code ownership: Every module is owned by exactly one developer, but others are allowed to change it. However, the owner is responsible for the module.\" }, { \"title\": \"How to drive code ownership in a multi-team application\", \"href\": \"https://www.bugsnag.com/blog/how-to-drive-code-ownership-with-error-alerts/\", \"body\": \"features. June Guan. June 1, 2020. / 3. min. How to drive code ownership in a multi-team application. At Bugsnag, one of our main goals has always been to help you prioritize and fix the bugs that matter. The purpose of our new Alerting and Workflow Engine is exactly that.\" } ]\n",
            "\u001b[33mCODEOWNERSHIPGPT THOUGHTS: \u001b[0m Based on the search results, I have gathered valuable information on code ownership in enterprise software engineering. Now, I need to analyze the information and summarize the key points to provide practical advice, identify potential risks and pitfalls, and offer insights on industry trends. To accomplish this, I can use the 'read_file' command to read the content of the search results and extract the relevant information.\n",
            "\u001b[33mREASONING: \u001b[0m By reading the content of the search results, I can extract the relevant information and analyze it to provide valuable insights on code ownership in enterprise software engineering.\n",
            "\u001b[33mPLAN: \u001b[0m\n",
            "\u001b[32m- \u001b[0m 1. Use the 'read_file' command to read the content of the search results.\n",
            "\u001b[32m- \u001b[0m 2. Analyze the content and extract the relevant information.\n",
            "\u001b[32m- \u001b[0m 3. Summarize the key points and provide practical advice, identify potential risks and pitfalls, and offer insights on industry trends.\n",
            "\u001b[33mCRITICISM: \u001b[0m I need to ensure that I extract the most relevant and accurate information from the search results to provide valuable insights.\n",
            "\u001b[33mSPEAK: \u001b[0m To provide practical advice, identify potential risks, and offer insights on industry trends related to code ownership in enterprise software engineering, I will read the content of the search results. This will help me extract the relevant information and provide valuable insights.\n",
            "\u001b[0m\n",
            "\u001b[36mNEXT ACTION: \u001b[0m COMMAND = \u001b[36mread_file\u001b[0m ARGUMENTS = \u001b[36m{'filename': 'search_results.txt'}\u001b[0m\n",
            " \u001b[0m Enter 'y' to authorise command, 'y -N' to run N continuous commands, 'n' to exit program, or enter feedback for CodeOwnershipGPT...\n",
            " \u001b[0m Asking user via keyboard...\n",
            "\u001b[?2004h\u001b[?25l\u001b[0m\u001b[?7l\u001b[0m\u001b[J\u001b[0;35mInput:\u001b[6D\u001b[6C\u001b[?7h\u001b[0m\u001b[?12l\u001b[?25h\u001b[?25l\u001b[?7l\u001b[6D\u001b[0m\u001b[J\u001b[0;35mInput:\u001b[0my\u001b[7D\u001b[0m\n",
            "\u001b[J\u001b[?7h\u001b[0m\u001b[?12l\u001b[?25h\u001b[?2004l\u001b[35m-=-=-=-=-=-=-= COMMAND AUTHORISED BY USER -=-=-=-=-=-=-= \u001b[0m\n",
            "\u001b[33mSYSTEM: \u001b[0m Command read_file returned: Error: read_file /content/Auto-GPT/auto_gpt_workspace/search_results.txt failed: no such file or directory\n",
            "\u001b[33mCODEOWNERSHIPGPT THOUGHTS: \u001b[0m Based on the search results, I have gathered valuable information on code ownership in enterprise software engineering. Now, I need to analyze the information and summarize the key points to provide practical advice, identify potential risks and pitfalls, and offer insights on industry trends. To accomplish this, I can use the 'read_file' command to read the content of the search results and extract the relevant information.\n",
            "\u001b[33mREASONING: \u001b[0m By reading the content of the search results, I can extract the relevant information and analyze it to provide valuable insights on code ownership in enterprise software engineering.\n",
            "\u001b[33mPLAN: \u001b[0m\n",
            "\u001b[32m- \u001b[0m 1. Use the 'read_file' command to read the content of the search results.\n",
            "\u001b[32m- \u001b[0m 2. Analyze the content and extract the relevant information.\n",
            "\u001b[32m- \u001b[0m 3. Summarize the key points and provide practical advice, identify potential risks and pitfalls, and offer insights on industry trends.\n",
            "\u001b[33mCRITICISM: \u001b[0m I need to ensure that I extract the most relevant and accurate information from the search results to provide valuable insights.\n",
            "\u001b[33mSPEAK: \u001b[0m To provide practical advice, identify potential risks, and offer insights on industry trends related to code ownership in enterprise software engineering, I will read the content of the search results. This will help me extract the relevant information and provide valuable insights.\n",
            "\u001b[0m\n",
            "\u001b[36mNEXT ACTION: \u001b[0m COMMAND = \u001b[36mread_file\u001b[0m ARGUMENTS = \u001b[36m{'filename': 'search_results.txt'}\u001b[0m\n",
            " \u001b[0m Enter 'y' to authorise command, 'y -N' to run N continuous commands, 'n' to exit program, or enter feedback for CodeOwnershipGPT...\n",
            " \u001b[0m Asking user via keyboard...\n",
            "\u001b[?2004h\u001b[?25l\u001b[0m\u001b[?7l\u001b[0m\u001b[J\u001b[0;35mInput:\u001b[6D\u001b[6C\u001b[?7h\u001b[0m\u001b[?12l\u001b[?25h\u001b[31mInterrupt signal received. Stopping continuous command execution immediately. \u001b[0m\n",
            "Press any key to continue..."
          ]
        }
      ]
    }
  ]
}