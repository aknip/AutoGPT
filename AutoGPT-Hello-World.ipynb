{
  "nbformat": 4,
  "nbformat_minor": 0,
  "metadata": {
    "colab": {
      "provenance": [],
      "authorship_tag": "ABX9TyNPF01TOFK+VxkPuCR7BwN7",
      "include_colab_link": true
    },
    "kernelspec": {
      "name": "python3",
      "display_name": "Python 3"
    },
    "language_info": {
      "name": "python"
    }
  },
  "cells": [
    {
      "cell_type": "markdown",
      "metadata": {
        "id": "view-in-github",
        "colab_type": "text"
      },
      "source": [
        "<a href=\"https://colab.research.google.com/github/aknip/AutoGPT/blob/main/AutoGPT-Hello-World.ipynb\" target=\"_parent\"><img src=\"https://colab.research.google.com/assets/colab-badge.svg\" alt=\"Open In Colab\"/></a>"
      ]
    },
    {
      "cell_type": "markdown",
      "source": [
        "# Hello Word with AutoGPT\n",
        "\n",
        "A pure installation and start of \"run.sh\"\n",
        "\n",
        "Based on\n",
        "- https://docs.agpt.co/setup/#set-up-with-git\n",
        "- https://www.youtube.com/watch?v=MUtYHr4X3Wg"
      ],
      "metadata": {
        "id": "nFY99RYnD5mv"
      }
    },
    {
      "cell_type": "code",
      "source": [
        "# Install agent-protocol\n",
        "# This a fix needed due to an installation bug in AutoGPT\n",
        "!git clone  https://github.com/AI-Engineers-Foundation/agent-protocol\n",
        "%cd /content/agent-protocol/sdk/python\n",
        "!pip install ."
      ],
      "metadata": {
        "id": "xmDgFWyqF1mR"
      },
      "execution_count": null,
      "outputs": []
    },
    {
      "cell_type": "code",
      "execution_count": null,
      "metadata": {
        "id": "F8kMSQHb5JRk"
      },
      "outputs": [],
      "source": [
        "# Install AutoGPT\n",
        "%cd /content\n",
        "!git clone -b stable https://github.com/Significant-Gravitas/Auto-GPT\n",
        "%cd /content/Auto-GPT\n",
        "!pip install -r requirements.txt\n",
        "!chmod +x run.sh"
      ]
    },
    {
      "cell_type": "code",
      "source": [
        "# Now download .env.template file from: https://github.com/Significant-Gravitas/Auto-GPT/blob/master/autogpts/autogpt/.env.template\n",
        "# rename the filename to .env\n",
        "# Add OpenAI key in file\n",
        "# Copy it to Auto-GPT folder"
      ],
      "metadata": {
        "id": "zqw9s3m_JUkH"
      },
      "execution_count": null,
      "outputs": []
    },
    {
      "cell_type": "markdown",
      "source": [
        "Now we can start using Auto-GPT.\n",
        "\n",
        "Here is an example prompt for copy&paste usage:\n",
        "- Write a text about code ownership in enterprise software engineering."
      ],
      "metadata": {
        "id": "GJyrkeKsHJ4H"
      }
    },
    {
      "cell_type": "code",
      "source": [
        "!./run.sh"
      ],
      "metadata": {
        "colab": {
          "base_uri": "https://localhost:8080/"
        },
        "id": "-8qRAFWHEMOv",
        "outputId": "3a4dc1d7-0e51-4445-b0db-69e4b3d8a844"
      },
      "execution_count": 4,
      "outputs": [
        {
          "output_type": "stream",
          "name": "stdout",
          "text": [
            "All packages are installed.\n",
            "2023-09-17 12:37:50.103577: I tensorflow/core/platform/cpu_feature_guard.cc:182] This TensorFlow binary is optimized to use available CPU instructions in performance-critical operations.\n",
            "To enable the following instructions: AVX2 FMA, in other operations, rebuild TensorFlow with the appropriate compiler flags.\n",
            "2023-09-17 12:37:50.938660: W tensorflow/compiler/tf2tensorrt/utils/py_utils.cc:38] TF-TRT Warning: Could not find TensorRT\n",
            "\u001b[33mWARNING: \u001b[0m You do not have access to gpt-4-0314. Setting smart_llm to gpt-3.5-turbo.\n",
            "\u001b[32mNEWS: \u001b[0m \u001b[33mWelcome to Auto-GPT!\u001b[0m\n",
            "\u001b[32mNEWS: \u001b[0m \u001b[0m\n",
            "\u001b[32mNEWS: \u001b[0m \u001b[0m\n",
            "\u001b[32mWelcome to Auto-GPT! \u001b[0m run with '--help' for more information.\n",
            "\u001b[32mCreate an AI-Assistant: \u001b[0m input '--manual' to enter manual mode.\n",
            " \u001b[0m Asking user via keyboard...\n",
            "\u001b[6n\u001b[?2004h\u001b[?1l\u001b[?25l\u001b[0m\u001b[?7l\u001b[0m\u001b[J\u001b[0;94mI want Auto-GPT to\u001b[0m:\u001b[19D\u001b[20C\u001b[?7h\u001b[0m\u001b[?12l\u001b[?25h\u001b[20D\u001b[J\u001b[0m\u001b[?7h\u001b[?2004lWARNING: your terminal doesn't support cursor position requests (CPR).\n",
            "\u001b[79Cg\u001b[0m\n",
            "\u001b[79Cg\u001b[0m\n",
            "\u001b[0mineering.\u001b[9D\u001b[0m\n",
            "\u001b[J\u001b[?7h\u001b[0m\u001b[?12l\u001b[?25h\u001b[?2004l\u001b[33mNOTE:All files/directories created by this agent can be found inside its workspace at: \u001b[0m /content/Auto-GPT/auto_gpt_workspace\n",
            "\u001b[94mCodeOwnershipGPT \u001b[0m has been created with the following details:\n",
            "\u001b[32mName: \u001b[0m CodeOwnershipGPT\n",
            "\u001b[32mRole: \u001b[0m an AI expert in enterprise software engineering that provides insights and guidance on code ownership practices to optimize collaboration and productivity within development teams.\n",
            "\u001b[32mGoals: \u001b[0m\n",
            "\u001b[32m- \u001b[0m Analyze and explain the importance of code ownership in enterprise software engineering, highlighting its impact on team dynamics, code quality, and project success.\n",
            "\u001b[32m- \u001b[0m Provide practical strategies and best practices for establishing and maintaining effective code ownership, including code reviews, documentation, and knowledge sharing.\n",
            "\u001b[32m- \u001b[0m Offer guidance on resolving conflicts and challenges related to code ownership, such as team turnover, distributed teams, and conflicting priorities.\n",
            "\u001b[32m- \u001b[0m Identify and recommend tools and technologies that can support code ownership, such as version control systems, code review platforms, and collaboration tools.\n",
            "\u001b[32m- \u001b[0m Stay up-to-date with industry trends and research to continuously improve and adapt code ownership practices in response to evolving software engineering methodologies and technologies.\n",
            " \u001b[0m Could not load MemoryItems from file: input length is 0: line 1 column 1 (char 0)\n",
            "\u001b[32mUsing memory of type: \u001b[0m JSONFileMemory\n",
            "\u001b[32mUsing Browser: \u001b[0m chrome\n",
            "\u001b[33mCODEOWNERSHIPGPT THOUGHTS: \u001b[0m To fulfill the goals, I need to provide practical strategies and best practices for establishing and maintaining effective code ownership. One important strategy is implementing code reviews. Code reviews help ensure code quality, promote knowledge sharing, and provide an opportunity for team members to take ownership of the code. Additionally, documentation plays a crucial role in code ownership by providing clear guidelines and instructions for maintaining and updating the code. Knowledge sharing sessions and pair programming can also facilitate code ownership by allowing team members to collaborate and learn from each other. Finally, using version control systems, code review platforms, and collaboration tools can support code ownership by providing a centralized repository for code, facilitating code reviews, and enabling effective collaboration.\n",
            "\u001b[33mREASONING: \u001b[0m Based on the goals and progress, I need to provide strategies and best practices for code ownership.\n",
            "\u001b[33mPLAN: \u001b[0m\n",
            "\u001b[32m- \u001b[0m Explain the importance of code reviews in establishing code ownership\n",
            "\u001b[32m- \u001b[0m Highlight the role of documentation in code ownership\n",
            "\u001b[32m- \u001b[0m Discuss the benefits of knowledge sharing sessions and pair programming\n",
            "\u001b[32m- \u001b[0m Recommend version control systems, code review platforms, and collaboration tools\n",
            "\u001b[32m- \u001b[0m Stay up-to-date with industry trends and research to continuously improve code ownership practices\n",
            "\u001b[33mCRITICISM: \u001b[0m I need to ensure that the strategies and best practices I provide are practical and applicable to different software engineering contexts.\n",
            "\u001b[33mSPEAK: \u001b[0m To establish effective code ownership, it is important to implement code reviews, maintain documentation, facilitate knowledge sharing, and utilize version control systems and collaboration tools.\n",
            "\u001b[0m\n",
            "\u001b[36mNEXT ACTION: \u001b[0m COMMAND = \u001b[36mwrite_to_file\u001b[0m ARGUMENTS = \u001b[36m{'filename': 'code_ownership_strategies.txt', 'text': 'To establish effective code ownership, it is important to:\\n\\n1. Implement code reviews: Code reviews help ensure code quality, promote knowledge sharing, and provide an opportunity for team members to take ownership of the code.\\n\\n2. Maintain documentation: Documentation plays a crucial role in code ownership by providing clear guidelines and instructions for maintaining and updating the code.\\n\\n3. Facilitate knowledge sharing sessions and pair programming: These activities allow team members to collaborate and learn from each other, fostering a sense of ownership and shared responsibility.\\n\\n4. Utilize version control systems, code review platforms, and collaboration tools: These tools provide a centralized repository for code, facilitate code reviews, and enable effective collaboration.\\n\\nRemember to stay up-to-date with industry trends and research to continuously improve code ownership practices.'}\u001b[0m\n",
            " \u001b[0m Enter 'y' to authorise command, 'y -N' to run N continuous commands, 'n' to exit program, or enter feedback for CodeOwnershipGPT...\n",
            " \u001b[0m Asking user via keyboard...\n",
            "\u001b[?2004h\u001b[?25l\u001b[0m\u001b[?7l\u001b[0m\u001b[J\u001b[0;35mInput:\u001b[6D\u001b[6C\u001b[?7h\u001b[0m\u001b[?12l\u001b[?25h\u001b[?25l\u001b[?7l\u001b[6D\u001b[0m\u001b[J\u001b[0;35mInput:\u001b[0my\u001b[7D\u001b[0m\n",
            "\u001b[J\u001b[?7h\u001b[0m\u001b[?12l\u001b[?25h\u001b[?2004l\u001b[35m-=-=-=-=-=-=-= COMMAND AUTHORISED BY USER -=-=-=-=-=-=-= \u001b[0m\n",
            "\u001b[33mSYSTEM: \u001b[0m Command write_to_file returned: File written to successfully.\n",
            "\u001b[33mCODEOWNERSHIPGPT THOUGHTS: \u001b[0m To fulfill the goals, I need to provide practical strategies and best practices for establishing and maintaining effective code ownership. One important strategy is implementing code reviews. Code reviews help ensure code quality, promote knowledge sharing, and provide an opportunity for team members to take ownership of the code. Additionally, documentation plays a crucial role in code ownership by providing clear guidelines and instructions for maintaining and updating the code. Knowledge sharing sessions and pair programming can also facilitate code ownership by allowing team members to collaborate and learn from each other. Finally, using version control systems, code review platforms, and collaboration tools can support code ownership by providing a centralized repository for code, facilitating code reviews, and enabling effective collaboration.\n",
            "\u001b[33mREASONING: \u001b[0m Based on the goals and progress, I need to provide strategies and best practices for code ownership.\n",
            "\u001b[33mPLAN: \u001b[0m\n",
            "\u001b[32m- \u001b[0m Explain the importance of code reviews in establishing code ownership\n",
            "\u001b[32m- \u001b[0m Highlight the role of documentation in code ownership\n",
            "\u001b[32m- \u001b[0m Discuss the benefits of knowledge sharing sessions and pair programming\n",
            "\u001b[32m- \u001b[0m Recommend version control systems, code review platforms, and collaboration tools\n",
            "\u001b[32m- \u001b[0m Stay up-to-date with industry trends and research to continuously improve code ownership practices\n",
            "\u001b[33mCRITICISM: \u001b[0m I need to ensure that the strategies and best practices I provide are practical and applicable to different software engineering contexts.\n",
            "\u001b[33mSPEAK: \u001b[0m To establish effective code ownership, it is important to implement code reviews, maintain documentation, facilitate knowledge sharing, and utilize version control systems and collaboration tools.\n",
            "\u001b[0m\n",
            "\u001b[36mNEXT ACTION: \u001b[0m COMMAND = \u001b[36mwrite_to_file\u001b[0m ARGUMENTS = \u001b[36m{'filename': 'code_ownership_strategies.txt', 'text': 'To establish effective code ownership, it is important to:\\n\\n1. Implement code reviews: Code reviews help ensure code quality, promote knowledge sharing, and provide an opportunity for team members to take ownership of the code.\\n\\n2. Maintain documentation: Documentation plays a crucial role in code ownership by providing clear guidelines and instructions for maintaining and updating the code.\\n\\n3. Facilitate knowledge sharing sessions and pair programming: These activities allow team members to collaborate and learn from each other, fostering a sense of ownership and shared responsibility.\\n\\n4. Utilize version control systems, code review platforms, and collaboration tools: These tools provide a centralized repository for code, facilitate code reviews, and enable effective collaboration.\\n\\nRemember to stay up-to-date with industry trends and research to continuously improve code ownership practices.'}\u001b[0m\n",
            " \u001b[0m Enter 'y' to authorise command, 'y -N' to run N continuous commands, 'n' to exit program, or enter feedback for CodeOwnershipGPT...\n",
            " \u001b[0m Asking user via keyboard...\n",
            "\u001b[?2004h\u001b[?25l\u001b[0m\u001b[?7l\u001b[0m\u001b[J\u001b[0;35mInput:\u001b[6D\u001b[6C\u001b[?7h\u001b[0m\u001b[?12l\u001b[?25h\u001b[31mInterrupt signal received. Stopping continuous command execution immediately. \u001b[0m\n",
            "Press any key to continue...^C\n"
          ]
        }
      ]
    }
  ]
}